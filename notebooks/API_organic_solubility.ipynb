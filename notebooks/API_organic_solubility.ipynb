{
 "cells": [
  {
   "cell_type": "code",
   "execution_count": 5,
   "id": "ccc76ea8",
   "metadata": {},
   "outputs": [],
   "source": [
    "from ersilia.api import Model"
   ]
  },
  {
   "cell_type": "code",
   "execution_count": 6,
   "id": "45e0d57d",
   "metadata": {},
   "outputs": [],
   "source": [
    "mdl = Model(model_id=\"eos8g50\", verbose=False)"
   ]
  },
  {
   "cell_type": "code",
   "execution_count": 8,
   "id": "3f444938",
   "metadata": {},
   "outputs": [
    {
     "name": "stdout",
     "output_type": "stream",
     "text": [
      "\u001b[34m⬇️  Fetching model eos8g50: fastsolv\u001b[0m\n",
      "\u001b[34mGetting model source\u001b[0m\n",
      "\u001b[34mModel doesn't exist on your system, fetching it now.\u001b[0m\n",
      "\u001b[34mInitiating fetch from DockerHub — this process may take some time...\u001b[0m\n",
      "\u001b[34mWriting model source to file\u001b[0m\n",
      "\u001b[32m👍 Model eos8g50 fetched successfully!\u001b[0m\n"
     ]
    }
   ],
   "source": [
    "mdl.fetch()"
   ]
  },
  {
   "cell_type": "code",
   "execution_count": 9,
   "id": "9950bb13",
   "metadata": {},
   "outputs": [
    {
     "name": "stdout",
     "output_type": "stream",
     "text": [
      "\u001b[34mServing model. This process may take some time...\u001b[0m\n"
     ]
    }
   ],
   "source": [
    "mdl.serve()"
   ]
  },
  {
   "cell_type": "code",
   "execution_count": 10,
   "id": "094538fa",
   "metadata": {},
   "outputs": [],
   "source": [
    "# input_list = [\n",
    "#     \"OC[C@H]1O[C@@H](O)[C@H](O)[C@@H](O)[C@H]1O\",\n",
    "#     \"OC[C@H]1O[C@@H](O[C@H]2O[C@@H](CO)[C@H](O)[C@@H](O)[C@H]2O)[C@H](O)[C@@H](O)[C@H]1O\",\n",
    "#     \"C([C@H](C(C(C(CO)O)O)O)O)O\",\n",
    "#     \"C(=O)(N)N\",\n",
    "#     \"OC(=O)c1ccc(O)cc1\",\n",
    "#     \"CCCCC\",\n",
    "#     \"CCCCCC\",\n",
    "#     \"C1CCCCC1\",\n",
    "#     \"CCCCCCCCCC\",\n",
    "#     \"CCCCCCCCCCCC\"\n",
    "# ]"
   ]
  },
  {
   "cell_type": "code",
   "execution_count": 11,
   "id": "856df75e",
   "metadata": {},
   "outputs": [
    {
     "name": "stdout",
     "output_type": "stream",
     "text": [
      "Starting runner\u001b[0m\n",
      "local column name path:/home/acomajuncosa/eos/dest/eos8g50/model/framework/columns/run_columns.csv\n",
      "Running batch 1\u001b[0m\n",
      "Batch 1 response fetched within: 6.1251 seconds\u001b[0m\n",
      "Output is being generated within: 6.12614 seconds\u001b[0m\n"
     ]
    }
   ],
   "source": [
    "df = mdl.run([\"NC(=O)[C@@H]1CCCN1\"])"
   ]
  },
  {
   "cell_type": "code",
   "execution_count": 11,
   "id": "65b22ced",
   "metadata": {},
   "outputs": [
    {
     "name": "stdout",
     "output_type": "stream",
     "text": [
      "                input  solubility_dimethyl_sulfoxide  solubility_heptane\n",
      "0  NC(=O)[C@@H]1CCCN1                       -0.38477           -2.163367\n"
     ]
    }
   ],
   "source": [
    "print(df[['input', \"solubility_dimethyl_sulfoxide\", \"solubility_heptane\"]])"
   ]
  },
  {
   "cell_type": "code",
   "execution_count": null,
   "id": "31a7f9c5",
   "metadata": {},
   "outputs": [],
   "source": []
  }
 ],
 "metadata": {
  "kernelspec": {
   "display_name": "ersilia_env",
   "language": "python",
   "name": "python3"
  },
  "language_info": {
   "codemirror_mode": {
    "name": "ipython",
    "version": 3
   },
   "file_extension": ".py",
   "mimetype": "text/x-python",
   "name": "python",
   "nbconvert_exporter": "python",
   "pygments_lexer": "ipython3",
   "version": "3.12.11"
  }
 },
 "nbformat": 4,
 "nbformat_minor": 5
}
