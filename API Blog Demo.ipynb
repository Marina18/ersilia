{
 "cells": [
  {
   "cell_type": "code",
   "execution_count": 1,
   "id": "37f43774-2e8e-4993-bf62-05ff314fb9a6",
   "metadata": {},
   "outputs": [
    {
     "name": "stdout",
     "output_type": "stream",
     "text": [
      "\u001b[34m⬇️  Fetching model eos78ao: mordred\u001b[0m\n",
      "\u001b[34mGetting model source\u001b[0m\n",
      "\u001b[31mModel already exists on your system. If you want to fetch it again, please delete it first.\u001b[0m\n",
      "\u001b[32m👍 Model eos78ao is already fetched successfully!\u001b[0m\n",
      "\u001b[34mServing model. This process may take some time...\u001b[0m\n"
     ]
    }
   ],
   "source": [
    "from ersilia.api import Model\n",
    "\n",
    "fastsolv = Model(\"eos78ao\")\n",
    "fastsolv.fetch()\n",
    "fastsolv.serve()"
   ]
  },
  {
   "cell_type": "code",
   "execution_count": null,
   "id": "fa63a259-c858-4ebb-833b-4d4f835c03ab",
   "metadata": {},
   "outputs": [
    {
     "name": "stdout",
     "output_type": "stream",
     "text": [
      "Starting runner\u001b[0m\n",
      "Running batch 1\u001b[0m\n",
      "Batch 1 response fetched within: 0.8017 seconds\u001b[0m\n",
      "Running batch 2\u001b[0m\n",
      "Batch 2 response fetched within: 0.4603 seconds\u001b[0m\n",
      "Running batch 3\u001b[0m\n",
      "Batch 3 response fetched within: 0.4480 seconds\u001b[0m\n",
      "Running batch 4\u001b[0m\n",
      "Batch 4 response fetched within: 0.4355 seconds\u001b[0m\n",
      "Running batch 5\u001b[0m\n",
      "Batch 5 response fetched within: 0.4294 seconds\u001b[0m\n",
      "Running batch 6\u001b[0m\n",
      "Batch 6 response fetched within: 0.4296 seconds\u001b[0m\n",
      "Running batch 7\u001b[0m\n",
      "Batch 7 response fetched within: 0.4261 seconds\u001b[0m\n",
      "Running batch 8\u001b[0m\n",
      "Batch 8 response fetched within: 0.4367 seconds\u001b[0m\n",
      "Running batch 9\u001b[0m\n",
      "Batch 9 response fetched within: 0.4416 seconds\u001b[0m\n",
      "Running batch 10\u001b[0m\n",
      "Batch 10 response fetched within: 0.4246 seconds\u001b[0m\n",
      "Running batch 11\u001b[0m\n",
      "Batch 11 response fetched within: 0.4167 seconds\u001b[0m\n",
      "Running batch 12\u001b[0m\n",
      "Batch 12 response fetched within: 0.4187 seconds\u001b[0m\n",
      "\u001b[31m\u001b[1m\u001b[25m🚨🚨🚨 Something went wrong with Ersilia 🚨🚨🚨\n",
      "\u001b[0m\n",
      "\u001b[31m\u001b[1mError message:\n",
      "\u001b[0m\n",
      "\u001b[31mfloat() argument must be a string or a real number, not 'NoneType'\u001b[0m\n",
      "\u001b[32mIf this error message is not helpful, open an issue at:\n",
      " - https://github.com/ersilia-os/ersilia\n",
      "Or feel free to reach out to us at:\n",
      " - hello[at]ersilia.io\n",
      "\n",
      "If you haven't, try to run your command in verbose mode (-v in the CLI)\n",
      " - You will find the console log file in: /Users/patrickwalsh/eos/current.log\u001b[0m\n"
     ]
    },
    {
     "ename": "SystemExit",
     "evalue": "1",
     "output_type": "error",
     "traceback": [
      "An exception has occurred, use %tb to see the full traceback.\n",
      "\u001b[31mSystemExit\u001b[39m\u001b[31m:\u001b[39m 1\n"
     ]
    },
    {
     "name": "stderr",
     "output_type": "stream",
     "text": [
      "/Users/patrickwalsh/miniconda3/envs/ersilia-new/lib/python3.12/site-packages/IPython/core/interactiveshell.py:3707: UserWarning: To exit: use 'exit', 'quit', or Ctrl-D.\n",
      "  warn(\"To exit: use 'exit', 'quit', or Ctrl-D.\", stacklevel=1)\n"
     ]
    }
   ],
   "source": [
    "import pandas as pd\n",
    "\n",
    "df = pd.read_csv(\"drugbank_input.csv\")\n",
    "input = df.values.tolist()\n",
    "output = fastsolv.run(input[:3], batch_size=1000)\n",
    "output.to_csv(\"drugbank_output.csv\")"
   ]
  }
 ],
 "metadata": {
  "kernelspec": {
   "display_name": "ersilia-new",
   "language": "python",
   "name": "python3"
  },
  "language_info": {
   "codemirror_mode": {
    "name": "ipython",
    "version": 3
   },
   "file_extension": ".py",
   "mimetype": "text/x-python",
   "name": "python",
   "nbconvert_exporter": "python",
   "pygments_lexer": "ipython3",
   "version": "3.12.11"
  }
 },
 "nbformat": 4,
 "nbformat_minor": 5
}
