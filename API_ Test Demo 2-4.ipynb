{
 "cells": [
  {
   "cell_type": "markdown",
   "id": "c4c3f1ad-11c4-48f8-aab0-53779f80d6f3",
   "metadata": {},
   "source": [
    "### ErsiliaAPI Demo II – Tuberculosis Drug Discovery Pipeline"
   ]
  },
  {
   "cell_type": "markdown",
   "id": "91d480fd-b94e-4e61-988f-053af35fa067",
   "metadata": {
    "editable": true,
    "slideshow": {
     "slide_type": ""
    },
    "tags": []
   },
   "source": [
    "TB: Tuberculosis"
   ]
  },
  {
   "cell_type": "markdown",
   "id": "b44874cf-1308-4a09-a96c-7c9d07a1e1ad",
   "metadata": {},
   "source": [
    "--> \"the anti-tuberculosis (TB) drug remains too high\""
   ]
  },
  {
   "cell_type": "markdown",
   "id": "b2a0630a-3210-4911-85aa-ed6e08245d37",
   "metadata": {},
   "source": [
    "--> Over 10 million cases per year"
   ]
  },
  {
   "cell_type": "markdown",
   "id": "a992a324-8837-445b-8449-0b442971b80d",
   "metadata": {},
   "source": [
    "--> ~1.3 million deaths annually"
   ]
  },
  {
   "cell_type": "markdown",
   "id": "c3837033-895f-46dd-a968-16cbf68348cf",
   "metadata": {},
   "source": [
    "--> Primarily affects people in South Asia, Sub-Saharan Africa, and parts of Eastern Europe"
   ]
  },
  {
   "cell_type": "markdown",
   "id": "e30de842-b1c6-492f-a40d-33501fc17f57",
   "metadata": {},
   "source": [
    "--> Current treatments are long and expensive: Standard TB treatment takes 6 months with a four-drug combination, can cost $400-$1000"
   ]
  },
  {
   "cell_type": "markdown",
   "id": "a0d0512b-3ceb-43c3-8063-597d43c78914",
   "metadata": {},
   "source": [
    "**1. GDBMedChem similarity search: Finding Similar Compounds to TB Treatment Compound**"
   ]
  },
  {
   "cell_type": "code",
   "execution_count": null,
   "id": "5e756347-5289-4452-9fe7-7118a9e6966d",
   "metadata": {},
   "outputs": [],
   "source": [
    "#\"eos7jlv\" = GDBMedChem similarity search\n",
    "\n",
    "from ersilia.api.create_api import ErsiliaAPI\n",
    "mdl_simil = ErsiliaAPI(\"eos7jlv\")\n"
   ]
  },
  {
   "cell_type": "code",
   "execution_count": null,
   "id": "bd25c5ae-4e24-4ef9-8ac2-3ccfdfc37e5b",
   "metadata": {},
   "outputs": [],
   "source": [
    "mdl_simil.fetch()"
   ]
  },
  {
   "cell_type": "code",
   "execution_count": null,
   "id": "9292b4c5-e135-4e3b-9e5a-28df2db3c027",
   "metadata": {},
   "outputs": [],
   "source": [
    "mdl_simil.serve()"
   ]
  },
  {
   "cell_type": "markdown",
   "id": "9ba5cee7-04ff-4225-b84f-58dc48a6240c",
   "metadata": {},
   "source": [
    " Compounds of Current Treatments:"
   ]
  },
  {
   "cell_type": "markdown",
   "id": "d65c146e-e7f3-4b5a-aed0-bb9ffc51043c",
   "metadata": {},
   "source": [
    "The expensive and time-consuming 4-month TB treatment regimen consists of:"
   ]
  },
  {
   "cell_type": "markdown",
   "id": "6a07709c-198b-4e11-88de-683e24d40d01",
   "metadata": {},
   "source": [
    "-->Isoniazid (H): \"C1=CN=CC=C1C(=O)NN\""
   ]
  },
  {
   "cell_type": "markdown",
   "id": "3f7f6385-9c21-4c82-a3a3-f104173b2cb1",
   "metadata": {},
   "source": [
    "--> Rifapentine (P): \"C[C@H]1/C=C/C=C(\\C(=O)NC2=C(C(=C3C(=C2O)C(=C(C4=C3C(=O)[C@](O4)(O/C=C/[C@@H]([C@H]([C@H]([C@@H]([C@@H]([C@@H]([C@H]1O)C)O)C)OC(=O)C)C)OC)C)C)O)O)/C=N/N5CCN(CC5)C6CCCC6)/C\""
   ]
  },
  {
   "cell_type": "markdown",
   "id": "e247a8e1-a790-4c6a-b2be-ceeb37c6098c",
   "metadata": {},
   "source": [
    "--> Pyrazinamide (Z): \"C1=CN=C(C=N1)C(=O)N]\""
   ]
  },
  {
   "cell_type": "markdown",
   "id": "b3b3ec0e-764f-4b85-b55a-2ff7f5193634",
   "metadata": {},
   "source": [
    "--> Moxifloxacin (M):\"COC1=C2C(=CC(=C1N3C[C@@H]4CCCN[C@@H]4C3)F)C(=O)C(=CN2C5CC5)C(=O)O\""
   ]
  },
  {
   "cell_type": "code",
   "execution_count": null,
   "id": "f464a895-f7d4-47fe-aacc-9d3f8f7ce798",
   "metadata": {},
   "outputs": [],
   "source": [
    "input = [\"C1=CN=CC=C1C(=O)NN\", \"C[C@H]1/C=C/C=C(\\C(=O)NC2=C(C(=C3C(=C2O)C(=C(C4=C3C(=O)[C@](O4)(O/C=C/[C@@H]([C@H]([C@H]([C@@H]([C@@H]([C@@H]([C@H]1O)C)O)C)OC(=O)C)C)OC)C)C)O)O)/C=N/N5CCN(CC5)C6CCCC6)/C\", \"C1=CN=C(C=N1)C(=O)N]\", \"COC1=C2C(=CC(=C1N3C[C@@H]4CCCN[C@@H]4C3)F)C(=O)C(=CN2C5CC5)C(=O)O\"]\n",
    "mdl_simil.run(input, output=\"TB_Similarity_Results.csv\", batch_size=100)"
   ]
  },
  {
   "cell_type": "markdown",
   "id": "7a18f5fb-5ccf-44dd-b38f-f88ad61b3fb5",
   "metadata": {},
   "source": [
    "Output: finding compounds similar to current tuberculosis treatment compounds"
   ]
  },
  {
   "cell_type": "code",
   "execution_count": null,
   "id": "a24eac67-6cf9-4935-8ca4-e1e6f9b940b2",
   "metadata": {},
   "outputs": [],
   "source": [
    "mdl_simil.example(\"TB_Simil_example\", True, True, 5, False)"
   ]
  },
  {
   "cell_type": "markdown",
   "id": "09dd8a83-18e1-4b42-a673-800fdf9c9688",
   "metadata": {},
   "source": [
    "Output: /Users/ziminqian/Desktop/ersilia/TB_Similarity_Results.csv"
   ]
  },
  {
   "cell_type": "code",
   "execution_count": null,
   "id": "424181b5-8a64-4c0a-a89f-96b7e16263d1",
   "metadata": {},
   "outputs": [],
   "source": [
    "mdl_simil.close()\n",
    "mdl_simil.delete()"
   ]
  },
  {
   "cell_type": "markdown",
   "id": "18d87694-92ed-4e62-8bf7-9f8bb9b5837a",
   "metadata": {},
   "source": [
    " **2. CARDIOTOXICITY CLASSIFIER**"
   ]
  },
  {
   "cell_type": "markdown",
   "id": "e1690f59-a4c1-401c-bb3e-2195ac067d97",
   "metadata": {},
   "source": [
    "Using the outputs of the similarity model, we can determine the cardiotoxicity of these compounds that are similar to treatment compounds."
   ]
  },
  {
   "cell_type": "code",
   "execution_count": 4,
   "id": "4459eb84-e2e3-4506-943c-6f5e80c6b49a",
   "metadata": {},
   "outputs": [
    {
     "ename": "ModuleNotFoundError",
     "evalue": "No module named 'ersilia.api'",
     "output_type": "error",
     "traceback": [
      "\u001b[31m---------------------------------------------------------------------------\u001b[39m",
      "\u001b[31mModuleNotFoundError\u001b[39m                       Traceback (most recent call last)",
      "\u001b[36mCell\u001b[39m\u001b[36m \u001b[39m\u001b[32mIn[4]\u001b[39m\u001b[32m, line 1\u001b[39m\n\u001b[32m----> \u001b[39m\u001b[32m1\u001b[39m \u001b[38;5;28;01mfrom\u001b[39;00m\u001b[38;5;250m \u001b[39m\u001b[34;01mersilia\u001b[39;00m\u001b[34;01m.\u001b[39;00m\u001b[34;01mapi\u001b[39;00m\u001b[34;01m.\u001b[39;00m\u001b[34;01mcreate_api\u001b[39;00m\u001b[38;5;250m \u001b[39m\u001b[38;5;28;01mimport\u001b[39;00m ErsiliaAPI\n\u001b[32m      2\u001b[39m mdl_toxicity = ErsiliaAPI(\u001b[33m\"\u001b[39m\u001b[33meos4q1a\u001b[39m\u001b[33m\"\u001b[39m)\n\u001b[32m      3\u001b[39m mdl_toxicity.fetch()\n",
      "\u001b[31mModuleNotFoundError\u001b[39m: No module named 'ersilia.api'"
     ]
    }
   ],
   "source": [
    "#\"eos1pu1\" cardiotoxicity classifier\n",
    "from ersilia.api.create_api import ErsiliaAPI\n",
    "\n",
    "mdl_toxicity = ErsiliaAPI(\"eos1pu1\")\n",
    "mdl_toxicity.fetch()\n",
    "mdl_toxicity.serve()\n",
    "input = [\n",
    "    \"C1=CN=CC=C1C(=O)NN\",\n",
    "    \"C[C@H]1/C=C/C=C(\\C(=O)NC2=C(C(=C3C(=C2O)C(=C(C4=C3C(=O)[C@](O4)(O/C=C/[C@@H]([C@H]([C@H]([C@@H]([C@@H]([C@@H]([C@H]1O)C)O)C)OC(=O)C)C)OC)C)C)O)O)/C=N/N5CCN(CC5)C6CCCC6)/C\",\n",
    "    \"C1=CN=C(C=N1)C(=O)N\",\n",
    "    \"COC1=C2C(=CC(=C1N3C[C@@H]4CCCN[C@@H]4C3)F)C(=O)C(=CN2C5CC5)C(=O)O\"]\n",
    "\n",
    "mdl_toxicity.run(input, output=\"TB_Cardiotoxicity_Results.csv\", batch_size=100)\n",
    "mdl_toxicity.close()\n",
    "mdl_toxicity.delete()"
   ]
  },
  {
   "cell_type": "markdown",
   "id": "5729f3a3-99f5-40c0-9b1a-52971220b9b6",
   "metadata": {},
   "source": [
    "Cardiotoxicity Plot:"
   ]
  },
  {
   "cell_type": "code",
   "execution_count": null,
   "id": "ac90b84a-f81e-4d51-8be1-197b9df9d5a5",
   "metadata": {},
   "outputs": [],
   "source": [
    "#Cardiotoxicity visual for these compounds\n",
    "import pandas as pd\n",
    "import matplotlib.pyplot as plt\n",
    "df = pd.read_csv('TB_Cardiotoxicity_Results.csv')\n",
    "plt.bar(df['column_name_for_x'], df['column_name_for_y'])\n",
    "plt.xlabel('X-axis Label')\n",
    "plt.ylabel('Y-axis Label')\n",
    "plt.title('Plot Title')\n",
    "plt.show()"
   ]
  },
  {
   "cell_type": "markdown",
   "id": "13a3220c-5a4b-407c-93aa-d8ebe90f4455",
   "metadata": {},
   "source": [
    "OUTPUT: /Users/ziminqian/Desktop/ersilia/TB_Cardiotoxicity_Results.csv"
   ]
  },
  {
   "cell_type": "markdown",
   "id": "f9061b3a-932f-406e-a7a9-056c1a54b8a4",
   "metadata": {},
   "source": [
    "**3. PHARMACOKINETICS PROFILER(PhaKinPro)**"
   ]
  },
  {
   "cell_type": "code",
   "execution_count": null,
   "id": "02144289-8680-4b4c-bad9-d3dbc316a127",
   "metadata": {},
   "outputs": [],
   "source": [
    "from ersilia.api.create_api import ErsiliaAPI\n",
    "#\"eos39dp\" Pharmacokinetics Profiler (PhaKinPro)\n",
    "mdl_pharmacokinetics = ErsiliaAPI(\"eos39dp\")\n",
    "mdl_pharmacokinetics.fetch()\n",
    "mdl_pharmacokinetics.serve()\n",
    "input = [\n",
    "     \"C1=CN=CC=C1C(=O)NN\",\n",
    "    \"C[C@H]1/C=C/C=C(\\C(=O)NC2=C(C(=C3C(=C2O)C(=C(C4=C3C(=O)[C@](O4)(O/C=C/[C@@H]([C@H]([C@H]([C@@H]([C@@H]([C@@H]([C@H]1O)C)O)C)OC(=O)C)C)OC)C)C)O)O)/C=N/N5CCN(CC5)C6CCCC6)/C\",\n",
    "    \"C1=CN=C(C=N1)C(=O)N\",\n",
    "    \"COC1=C2C(=CC(=C1N3C[C@@H]4CCCN[C@@H]4C3)F)C(=O)C(=CN2C5CC5)C(=O)O\"]\n",
    "\n",
    "mdl_pharmacokinetics.run(input, output=\"TB_Pharmacokinetics_Results.csv\", batch_size=100)\n",
    "mdl_pharmacokinetics.close()\n",
    "mdl_pharmacokinetics.delete()"
   ]
  },
  {
   "cell_type": "markdown",
   "id": "a812f3b5-6762-4521-8999-612c13bd2e47",
   "metadata": {},
   "source": [
    "### ErsiliaAPI Demo III: Carbon Capture Compounds"
   ]
  },
  {
   "cell_type": "markdown",
   "id": "36602889-f501-4b5e-b9f0-d2ecf7884537",
   "metadata": {},
   "source": [
    "Calcium Hydroxide (Ca(OH)₂)\n",
    "Forms solid calcium carbonate (CaCO₃), locking away CO₂ permanently.\n",
    "Easy to source, low toxicity, works at ambient conditions.\n",
    "Used in mineralization reactors, concrete curing, and CO₂ storage projects.\n"
   ]
  },
  {
   "cell_type": "markdown",
   "id": "c4d83d8d-2394-45ce-8fbf-457c6f2a5f17",
   "metadata": {},
   "source": [
    "**Retrosynthetic Accessibility**"
   ]
  },
  {
   "cell_type": "code",
   "execution_count": null,
   "id": "55a61863-42f8-4b75-923b-108a2b835806",
   "metadata": {},
   "outputs": [],
   "source": [
    "How easy are these compounds to synthesize?"
   ]
  },
  {
   "cell_type": "code",
   "execution_count": null,
   "id": "e9ea4682-e3cb-458b-9e2f-addfee3e4af3",
   "metadata": {},
   "outputs": [],
   "source": [
    "from ersilia.api.create_api import ErsiliaAPI\n",
    "\n",
    "mdl_retro = ErsiliaAPI(\"eos2r5a\")\n",
    "mdl_retro.fetch()\n",
    "mdl_retro.serve()\n",
    "input = [\"[OH-].[OH-].[Ca+2]\"]\n",
    "mdl_retro.run(input, output=\"Carbon_Capture_Retro.csv\", batch_size=100)"
   ]
  },
  {
   "cell_type": "markdown",
   "id": "ba34f1ba-6107-4abe-bd49-dbaaa399e407",
   "metadata": {},
   "source": [
    "Predict micro-pKa of organic molecules"
   ]
  },
  {
   "cell_type": "code",
   "execution_count": null,
   "id": "fd70edc4-00c7-48f4-a15a-f0bcb3baef9b",
   "metadata": {},
   "outputs": [],
   "source": [
    "from ersilia.api.create_api import ErsiliaAPI\n",
    "\n",
    "mdl_pka = ErsiliaAPI(\"eos3wzy\")\n",
    "mdl_pka.fetch()\n",
    "mdl_pka.serve()\n",
    "input = [\"[Ca++].[OH-].[OH-]\"]\n",
    "mdl_pka.run(input, output=\"Micro_pka.csv\", batch_size=100)"
   ]
  },
  {
   "cell_type": "markdown",
   "id": "5b6714a9-a31b-489f-aa50-b3a043e08fae",
   "metadata": {},
   "source": [
    "**Toxicity**"
   ]
  },
  {
   "cell_type": "markdown",
   "id": "c9fb439d-1a93-46fb-ab0b-4b30a8821dc3",
   "metadata": {},
   "source": [
    "How toxic are these compounds? if we released them into the air for carbon capture, would it be toxic to people?"
   ]
  },
  {
   "cell_type": "code",
   "execution_count": null,
   "id": "9e3c5080-d7d7-425c-a930-91a29d4b427e",
   "metadata": {},
   "outputs": [],
   "source": [
    "from ersilia.api.create_api import ErsiliaAPI\n",
    "\n",
    "mdl_toxicity = = ErsiliaAPI(\"eos1pu1\")\n",
    "mdl_toxicity.fetch()\n",
    "mdl_toxicity.serve()\n",
    "input = [\"CCO\", \"CCCCCC1=CC(=C2[C@@H]3C=C(CC[C@H]3C(OC2=C1)(C)C)C)O\", \"CN(C)CCC1=CNC2=C1C(=CC=C2)OP(=O)(O)O\"]\n",
    "mdl_toxicity.run(input, output=\"Drug_Cardiotoxicity_Results.csv\", batch_size=100)"
   ]
  },
  {
   "cell_type": "markdown",
   "id": "dbd5d2e7-d565-4002-981f-08321421e88e",
   "metadata": {},
   "source": [
    "### ErsiliaAPI Demo IV: Cardiotoxicity of Alcohol"
   ]
  },
  {
   "cell_type": "markdown",
   "id": "9fa5af0c-2b6f-4c1d-9696-2b1818c67b42",
   "metadata": {},
   "source": [
    "Ethanol: CCO"
   ]
  },
  {
   "cell_type": "markdown",
   "id": "ba8d0bf4-18ec-43b2-9b48-6effd13a6e92",
   "metadata": {},
   "source": [
    "THC: CCCCCC1=CC(=C2[C@@H]3C=C(CC[C@H]3C(OC2=C1)(C)C)C)O\n"
   ]
  },
  {
   "cell_type": "markdown",
   "id": "43e92032-d0f6-42d7-b0b6-723a57993a93",
   "metadata": {},
   "source": [
    "Psilocybin: CN(C)CCC1=CNC2=C1C(=CC=C2)OP(=O)(O)O"
   ]
  },
  {
   "cell_type": "code",
   "execution_count": null,
   "id": "069b2825-14b0-4474-b2d2-ee536fba86a3",
   "metadata": {},
   "outputs": [],
   "source": []
  },
  {
   "cell_type": "code",
   "execution_count": null,
   "id": "2fbdabd0-2e09-4214-b86f-9182693c7911",
   "metadata": {},
   "outputs": [],
   "source": [
    "from ersilia.api.create_api import ErsiliaAPI\n",
    "\n",
    "mdl_toxicity = ErsiliaAPI(\"eos1pu1\")\n",
    "mdl_toxicity.fetch()\n",
    "mdl_toxicity.serve()\n",
    "input = [\"CCO\", \"CCCCCC1=CC(=C2[C@@H]3C=C(CC[C@H]3C(OC2=C1)(C)C)C)O\", \"CN(C)CCC1=CNC2=C1C(=CC=C2)OP(=O)(O)O\"]\n",
    "mdl_toxicity.run(input, output=\"Drug_Cardiotoxicity_Results.csv\", batch_size=100)"
   ]
  },
  {
   "cell_type": "markdown",
   "id": "9d2c4f4a-aa41-4174-bfeb-46833863032c",
   "metadata": {},
   "source": [
    "Output: /Users/ziminqian/Desktop/ersilia/Drug_Cardiotoxicity_Results.csv"
   ]
  },
  {
   "cell_type": "code",
   "execution_count": null,
   "id": "5018e4e9-d9cf-44a9-91b3-398b713817ae",
   "metadata": {},
   "outputs": [],
   "source": [
    "key,input,cardiotoxicity_risk\n",
    "\"47029b0a89b677c61d67c3a1b1071f07\",\"CCO\",0.4987850927523634\n",
    "\"309faa120a4e3f1f7fe822e5f9556545\",\"CCCCCC1=CC(=C2[C@@H]3C=C(CC[C@H]3C(OC2=C1)(C)C)C)O\",0.8919920695276052\n",
    "\"6a72d75cda57b75f152b856ad3922937\",\"CN(C)CCC1=CNC2=C1C(=CC=C2)OP(=O)(O)O\",0.8097184533513834"
   ]
  },
  {
   "cell_type": "code",
   "execution_count": null,
   "id": "cb76d71d-7be1-474d-8b3f-a36e6c1dbe4d",
   "metadata": {},
   "outputs": [],
   "source": []
  }
 ],
 "metadata": {
  "kernelspec": {
   "display_name": "Python 3 (ipykernel)",
   "language": "python",
   "name": "python3"
  },
  "language_info": {
   "codemirror_mode": {
    "name": "ipython",
    "version": 3
   },
   "file_extension": ".py",
   "mimetype": "text/x-python",
   "name": "python",
   "nbconvert_exporter": "python",
   "pygments_lexer": "ipython3",
   "version": "3.12.11"
  }
 },
 "nbformat": 4,
 "nbformat_minor": 5
}
