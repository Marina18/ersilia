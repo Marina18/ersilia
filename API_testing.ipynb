{
 "cells": [
  {
   "cell_type": "markdown",
   "id": "11fe8359-63be-4848-96d1-b6ad4e7e0335",
   "metadata": {},
   "source": [
    "ErsiliaAPI Class\n",
    "- Automatically fetches provided model ID"
   ]
  },
  {
   "cell_type": "code",
   "execution_count": 26,
   "id": "b948da65-9d38-4978-832f-cff6fdfba182",
   "metadata": {},
   "outputs": [
    {
     "name": "stdout",
     "output_type": "stream",
     "text": [
      "\u001b[34m⬇️ Fetching model eos4q1a: crem-structure-generation\u001b[0m\n",
      "\u001b[31m👎 Model eos4q1a failed to fetch! Model already exists on your system. If you want to fetch it again, please delete the existing model first.\u001b[0m\n"
     ]
    }
   ],
   "source": [
    "from ersilia.api.create_api import ErsiliaAPI\n",
    "# molecular-weight\n",
    "# mdl_mol_weight = ErsiliaAPI(\"eos3b5e\")\n",
    "# CReM fragment based structure generation\n",
    "mdl_crem_frag = ErsiliaAPI(\"eos4q1a\")\n",
    "# Add explicit fetch command - not automatic"
   ]
  },
  {
   "cell_type": "markdown",
   "id": "b8df9a77-134d-4c99-9e8a-97ce77cd97b1",
   "metadata": {},
   "source": [
    "Serve command"
   ]
  },
  {
   "cell_type": "code",
   "execution_count": 27,
   "id": "b96c3aa3-7cb1-4f91-9e64-426a1253e679",
   "metadata": {},
   "outputs": [
    {
     "name": "stdout",
     "output_type": "stream",
     "text": [
      "\u001b[32m🚀 Serving model eos4q1a: crem-structure-generation\u001b[0m\n",
      "\u001b[0m\n",
      "\u001b[33m   URL: http://0.0.0.0:60645\u001b[0m\n",
      "\u001b[33m   SRV: pulled_docker\u001b[0m\n",
      "\u001b[33m   Session: /Users/patrickwalsh/eos/sessions/session_33578\u001b[0m\n",
      "\u001b[0m\n",
      "\u001b[34m🔄 Cache fetching mode:\u001b[0m\n",
      "\u001b[31m   - Disabled\u001b[0m\n",
      "\u001b[0m\n",
      "\u001b[34m💾 Local cache:\u001b[0m\n",
      "\u001b[32m   - Enabled\u001b[0m\n",
      "\u001b[0m\n",
      "\u001b[34m📈 Tracking:\u001b[0m\n",
      "\u001b[31m   - Disabled\u001b[0m\n"
     ]
    }
   ],
   "source": [
    "# mdl_mol_weight.serve()\n",
    "mdl_crem_frag.serve()"
   ]
  },
  {
   "cell_type": "markdown",
   "id": "5644fe65-aa15-4119-aa40-1eaaac0229d3",
   "metadata": {},
   "source": [
    "Run Command\n",
    "- input: list of SMILES compounds\n",
    "- batch_size"
   ]
  },
  {
   "cell_type": "code",
   "execution_count": 34,
   "id": "ffd80792-70a3-446b-951e-781e620c5c22",
   "metadata": {},
   "outputs": [
    {
     "name": "stdout",
     "output_type": "stream",
     "text": [
      "✅ The output successfully generated in /var/folders/c_/y8b6jkqs6xqdbh11552hd04w0000gn/T/tmpa8xu886v.csv file!\n",
      "                                key                  input  \\\n",
      "0  b4ad242ba8e762c5bb8326ba60fd57ef  COc1ccc(C=CC(O)=O)cc1   \n",
      "\n",
      "                smi_00                 smi_01            smi_02  \\\n",
      "0  COc1ccc(C=CCO)cc1OC  O=C(O)CC(=O)Nc1ccccc1  COc1ccc(SCCO)cc1   \n",
      "\n",
      "                     smi_03                smi_04                     smi_05  \\\n",
      "0  Cc1cc(C)c(C(=O)O)c(Cl)n1  COc1ccc(C(=O)CCO)cc1  CCC(N)c1ccc(C=CC(=O)O)cc1   \n",
      "\n",
      "                smi_06              smi_07  ...               smi_90  \\\n",
      "0  COC(=O)CCC(N)C(=O)O  O=C(O)COc1ccccc1Cl  ...  COc1ccc(OC(C)=O)cc1   \n",
      "\n",
      "                 smi_91                 smi_92             smi_93  \\\n",
      "0  COc1ccc(Cn2ccnc2)cc1  CC(C)(Sc1cccs1)C(=O)O  COc1ccc(N=CNO)cc1   \n",
      "\n",
      "                 smi_94                     smi_95                   smi_96  \\\n",
      "0  O=C(O)C=Cc1ccc(O)cc1  O=C(O)CCC(=O)Nc1ccc(O)cc1  O=C(O)CNC(=O)SCc1ccccc1   \n",
      "\n",
      "                    smi_97                     smi_98               smi_99  \n",
      "0  Cc1cc(C)c(N)c(C(=O)O)c1  O=C(O)c1cc2ccc(O)cc2oc1=O  CC(=O)N1CCCC1C(=O)O  \n",
      "\n",
      "[1 rows x 102 columns]\n"
     ]
    }
   ],
   "source": [
    "#input = [\"Cc1c(NC(=O)OC[C@@H]2COCCN2)cn2ncnc(Nc3ccc4n(Cc5cccc(F)c5)ncc4c3)c12\",\"NCCCC[C@H](N)C(O)=O.Cc1c(Cl)cccc1Nc1ncccc1C(O)=O\",\"OC(=O)c1cc(O)c(O)c(O)c1\"]#,\"COc1ccc(\\C=C\\C(O)=O)cc1\"]\n",
    "input = [\"COc1ccc(C=CC(O)=O)cc1\"]\n",
    "mdl_crem_frag.run(input, batch_size=3)\n",
    "# Allow user to specify an input/output file or use python object\n",
    "# Input = list --> pandas data frame (numpy array as next step) "
   ]
  },
  {
   "cell_type": "markdown",
   "id": "a7857858-5f2c-4917-9128-41423321d1d1",
   "metadata": {},
   "source": [
    "Example Command\n",
    "- file_name\n",
    "- simple\n",
    "- random\n",
    "- n_samples\n",
    "- deterministic"
   ]
  },
  {
   "cell_type": "code",
   "execution_count": 28,
   "id": "dfc67ccc-8c7e-469c-9240-23c2461b273c",
   "metadata": {},
   "outputs": [
    {
     "name": "stdout",
     "output_type": "stream",
     "text": [
      "<function example at 0x11ce47740>\n"
     ]
    }
   ],
   "source": [
    "mdl_crem_frag.example(\"example_filename\", True, True, 5, False)"
   ]
  },
  {
   "cell_type": "markdown",
   "id": "c2f4f1e5-9d52-45eb-8709-f89830739b3f",
   "metadata": {},
   "source": [
    "Close Command"
   ]
  },
  {
   "cell_type": "code",
   "execution_count": 25,
   "id": "e021076f-7f1b-469f-b599-3bc249b89268",
   "metadata": {},
   "outputs": [
    {
     "name": "stdout",
     "output_type": "stream",
     "text": [
      "\u001b[32m⛔ Model eos3b5e closed\u001b[0m\n"
     ]
    },
    {
     "ename": "NameError",
     "evalue": "name 'mdl_crem_frag' is not defined",
     "output_type": "error",
     "traceback": [
      "\u001b[31m---------------------------------------------------------------------------\u001b[39m",
      "\u001b[31mNameError\u001b[39m                                 Traceback (most recent call last)",
      "\u001b[36mCell\u001b[39m\u001b[36m \u001b[39m\u001b[32mIn[25]\u001b[39m\u001b[32m, line 2\u001b[39m\n\u001b[32m      1\u001b[39m mdl_mol_weight.close()\n\u001b[32m----> \u001b[39m\u001b[32m2\u001b[39m mdl_crem_frag.close()\n",
      "\u001b[31mNameError\u001b[39m: name 'mdl_crem_frag' is not defined"
     ]
    }
   ],
   "source": [
    "mdl_mol_weight.close()\n",
    "mdl_crem_frag.close()"
   ]
  },
  {
   "cell_type": "markdown",
   "id": "5e879134-77ef-414d-a5ea-06278e6c6705",
   "metadata": {},
   "source": [
    "Delete Command"
   ]
  },
  {
   "cell_type": "code",
   "execution_count": null,
   "id": "0d1cb6ab-805e-499d-a9b6-0f6c91efafce",
   "metadata": {},
   "outputs": [],
   "source": [
    "mdl_mol_weight.delete()\n",
    "mdl_crem_frag.delete()"
   ]
  },
  {
   "cell_type": "code",
   "execution_count": null,
   "id": "f29fee29-7dfc-4ce7-b948-e20eccae8e87",
   "metadata": {},
   "outputs": [],
   "source": [
    "# First require that the model must be fetched\n",
    "# Model can be served with the with architecture\n",
    "# run/example/info (NOT close)\n",
    "with mdl_cream_frag as model:\n",
    "    model.info()"
   ]
  },
  {
   "cell_type": "markdown",
   "id": "0b23f03c-ada6-450c-b72d-46d9b51617f3",
   "metadata": {},
   "source": [
    "Add doc strings\n",
    "- Run functionality\n",
    "\n",
    "Add input/output file functionality\n",
    "Add with functionality"
   ]
  }
 ],
 "metadata": {
  "kernelspec": {
   "display_name": "Python 3 (ipykernel)",
   "language": "python",
   "name": "python3"
  },
  "language_info": {
   "codemirror_mode": {
    "name": "ipython",
    "version": 3
   },
   "file_extension": ".py",
   "mimetype": "text/x-python",
   "name": "python",
   "nbconvert_exporter": "python",
   "pygments_lexer": "ipython3",
   "version": "3.12.11"
  }
 },
 "nbformat": 4,
 "nbformat_minor": 5
}
