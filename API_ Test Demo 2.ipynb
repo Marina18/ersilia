{
 "cells": [
  {
   "cell_type": "markdown",
   "id": "c4c3f1ad-11c4-48f8-aab0-53779f80d6f3",
   "metadata": {},
   "source": [
    "Ersilia API Demo 2"
   ]
  },
  {
   "cell_type": "markdown",
   "id": "91d480fd-b94e-4e61-988f-053af35fa067",
   "metadata": {},
   "source": [
    "TB: Tuberculosis"
   ]
  },
  {
   "cell_type": "markdown",
   "id": "b44874cf-1308-4a09-a96c-7c9d07a1e1ad",
   "metadata": {},
   "source": [
    "--> \"the anti-tuberculosis (TB) drug remains too high\""
   ]
  },
  {
   "cell_type": "markdown",
   "id": "b2a0630a-3210-4911-85aa-ed6e08245d37",
   "metadata": {},
   "source": [
    "--> Over 10 million cases per year"
   ]
  },
  {
   "cell_type": "markdown",
   "id": "a992a324-8837-445b-8449-0b442971b80d",
   "metadata": {},
   "source": [
    "--> ~1.3 million deaths annually"
   ]
  },
  {
   "cell_type": "markdown",
   "id": "c3837033-895f-46dd-a968-16cbf68348cf",
   "metadata": {},
   "source": [
    "--> Primarily affects people in South Asia, Sub-Saharan Africa, and parts of Eastern Europe"
   ]
  },
  {
   "cell_type": "markdown",
   "id": "e30de842-b1c6-492f-a40d-33501fc17f57",
   "metadata": {},
   "source": [
    "--> Current treatments are long and expensive: Standard TB treatment takes 6 months with a four-drug combination, can cost $400-$1000"
   ]
  },
  {
   "cell_type": "code",
   "execution_count": null,
   "id": "765c8b26-80bb-4574-9818-17896b84355e",
   "metadata": {},
   "outputs": [],
   "source": []
  },
  {
   "cell_type": "markdown",
   "id": "a0d0512b-3ceb-43c3-8063-597d43c78914",
   "metadata": {},
   "source": [
    "1. DRUG LIKENESS SCORING: Finding Similar Compounds to TB Treatment Compound"
   ]
  },
  {
   "cell_type": "code",
   "execution_count": null,
   "id": "5e756347-5289-4452-9fe7-7118a9e6966d",
   "metadata": {},
   "outputs": [],
   "source": [
    "#Drug-likeness scoring based on unsupervised learning\n",
    "\n",
    "from ersilia.api.create_api import ErsiliaAPI\n",
    "mdl_simil = ErsiliaAPI(\"eos4q1a\")\n"
   ]
  },
  {
   "cell_type": "code",
   "execution_count": null,
   "id": "bd25c5ae-4e24-4ef9-8ac2-3ccfdfc37e5b",
   "metadata": {},
   "outputs": [],
   "source": [
    "mdl_simil.fetch()"
   ]
  },
  {
   "cell_type": "code",
   "execution_count": null,
   "id": "9292b4c5-e135-4e3b-9e5a-28df2db3c027",
   "metadata": {},
   "outputs": [],
   "source": [
    "mdl_simil.serve()"
   ]
  },
  {
   "cell_type": "markdown",
   "id": "9ba5cee7-04ff-4225-b84f-58dc48a6240c",
   "metadata": {},
   "source": [
    " Compounds of Current Treatments:"
   ]
  },
  {
   "cell_type": "markdown",
   "id": "d65c146e-e7f3-4b5a-aed0-bb9ffc51043c",
   "metadata": {},
   "source": [
    "The expensive and time-consuming 4-month TB treatment regimen consists of:"
   ]
  },
  {
   "cell_type": "markdown",
   "id": "6a07709c-198b-4e11-88de-683e24d40d01",
   "metadata": {},
   "source": [
    "-->Isoniazid (H): \"C1=CN=CC=C1C(=O)NN\""
   ]
  },
  {
   "cell_type": "markdown",
   "id": "3f7f6385-9c21-4c82-a3a3-f104173b2cb1",
   "metadata": {},
   "source": [
    "--> Rifapentine (P): \"C[C@H]1/C=C/C=C(\\C(=O)NC2=C(C(=C3C(=C2O)C(=C(C4=C3C(=O)[C@](O4)(O/C=C/[C@@H]([C@H]([C@H]([C@@H]([C@@H]([C@@H]([C@H]1O)C)O)C)OC(=O)C)C)OC)C)C)O)O)/C=N/N5CCN(CC5)C6CCCC6)/C\""
   ]
  },
  {
   "cell_type": "markdown",
   "id": "e247a8e1-a790-4c6a-b2be-ceeb37c6098c",
   "metadata": {},
   "source": [
    "--> Pyrazinamide (Z): \"C1=CN=C(C=N1)C(=O)N]\""
   ]
  },
  {
   "cell_type": "markdown",
   "id": "b3b3ec0e-764f-4b85-b55a-2ff7f5193634",
   "metadata": {},
   "source": [
    "--> Moxifloxacin (M):\"COC1=C2C(=CC(=C1N3C[C@@H]4CCCN[C@@H]4C3)F)C(=O)C(=CN2C5CC5)C(=O)O\""
   ]
  },
  {
   "cell_type": "code",
   "execution_count": null,
   "id": "f464a895-f7d4-47fe-aacc-9d3f8f7ce798",
   "metadata": {},
   "outputs": [],
   "source": [
    "input = [\"C1=CN=CC=C1C(=O)NN\", \"C[C@H]1/C=C/C=C(\\C(=O)NC2=C(C(=C3C(=C2O)C(=C(C4=C3C(=O)[C@](O4)(O/C=C/[C@@H]([C@H]([C@H]([C@@H]([C@@H]([C@@H]([C@H]1O)C)O)C)OC(=O)C)C)OC)C)C)O)O)/C=N/N5CCN(CC5)C6CCCC6)/C\", \"C1=CN=C(C=N1)C(=O)N]\", \"COC1=C2C(=CC(=C1N3C[C@@H]4CCCN[C@@H]4C3)F)C(=O)C(=CN2C5CC5)C(=O)O\"]\n",
    "mdl_simil.run(input, output=\"TB_Similarity_Results.csv\", batch_size=100)"
   ]
  },
  {
   "cell_type": "markdown",
   "id": "7a18f5fb-5ccf-44dd-b38f-f88ad61b3fb5",
   "metadata": {},
   "source": [
    "Output: finding compounds similar to current tuberculosis treatment compounds"
   ]
  },
  {
   "cell_type": "code",
   "execution_count": null,
   "id": "a24eac67-6cf9-4935-8ca4-e1e6f9b940b2",
   "metadata": {},
   "outputs": [],
   "source": [
    "mdl_simil.example(\"TB_Simil_example\", True, True, 5, False)"
   ]
  },
  {
   "cell_type": "code",
   "execution_count": null,
   "id": "47ae70fd-f63c-4636-b3cf-71829370d231",
   "metadata": {},
   "outputs": [],
   "source": [
    "Output: /Users/ziminqian/Desktop/ersilia/TB_Similarity_Results.csv"
   ]
  },
  {
   "cell_type": "code",
   "execution_count": null,
   "id": "424181b5-8a64-4c0a-a89f-96b7e16263d1",
   "metadata": {},
   "outputs": [],
   "source": [
    "mdl_simil.close()\n",
    "mdl_simil.delete()"
   ]
  },
  {
   "cell_type": "code",
   "execution_count": null,
   "id": "2fea78c1-184c-47c3-add7-5ef6a596b0b3",
   "metadata": {},
   "outputs": [],
   "source": []
  },
  {
   "cell_type": "code",
   "execution_count": null,
   "id": "65764957-4dd5-4ccb-9a06-b3ea92536e41",
   "metadata": {},
   "outputs": [],
   "source": []
  },
  {
   "cell_type": "markdown",
   "id": "18d87694-92ed-4e62-8bf7-9f8bb9b5837a",
   "metadata": {},
   "source": [
    "2. CARDIOTOXICITY CLASSIFIER"
   ]
  },
  {
   "cell_type": "code",
   "execution_count": 4,
   "id": "4459eb84-e2e3-4506-943c-6f5e80c6b49a",
   "metadata": {},
   "outputs": [
    {
     "name": "stdout",
     "output_type": "stream",
     "text": [
      "\u001b[34m⬇️  Fetching model eos1pu1: cardiotox-dictrank\u001b[0m\n",
      "\u001b[34mGetting model source\u001b[0m\n",
      "\u001b[31mModel already exists on your system. If you want to fetch it again, please delete it first.\u001b[0m\n",
      "\u001b[31m👎 Model eos1pu1 failed to fetch! Model already exists on your system. If you want to fetch it again, please delete the existing model first.\u001b[0m\n",
      "\u001b[32m🚀 Serving model eos1pu1: cardiotox-dictrank\u001b[0m\n",
      "\u001b[0m\n",
      "\u001b[33m   URL: http://0.0.0.0:62539\u001b[0m\n",
      "\u001b[33m   SRV: pulled_docker\u001b[0m\n",
      "\u001b[33m   Session: /Users/patrickwalsh/eos/sessions/session_49833\u001b[0m\n",
      "\u001b[0m\n",
      "\u001b[34m🔄 Cache fetching mode:\u001b[0m\n",
      "\u001b[31m   - Disabled\u001b[0m\n",
      "\u001b[0m\n",
      "\u001b[34m💾 Local cache:\u001b[0m\n",
      "\u001b[32m   - Enabled\u001b[0m\n",
      "\u001b[0m\n",
      "\u001b[34m📈 Tracking:\u001b[0m\n",
      "\u001b[31m   - Disabled\u001b[0m\n"
     ]
    }
   ],
   "source": [
    "#\"eos1pu1\" cardiotoxicity classifier\n",
    "from ersilia.api.create_api import ErsiliaAPI\n",
    "\n",
    "mdl_toxicity = ErsiliaAPI(\"eos1pu1\")\n",
    "mdl_toxicity.fetch()\n",
    "mdl_toxicity.serve()"
   ]
  },
  {
   "cell_type": "markdown",
   "id": "e1690f59-a4c1-401c-bb3e-2195ac067d97",
   "metadata": {},
   "source": [
    "Using the outputs of the similarity model, we can determine the cardiotoxicity of these compounds that are similar to treatment compounds"
   ]
  },
  {
   "cell_type": "code",
   "execution_count": 2,
   "id": "f5141b85-87fa-4463-88e9-fe9d83f85546",
   "metadata": {},
   "outputs": [
    {
     "ename": "NameError",
     "evalue": "name 'mdl_toxicity' is not defined",
     "output_type": "error",
     "traceback": [
      "\u001b[31m---------------------------------------------------------------------------\u001b[39m",
      "\u001b[31mNameError\u001b[39m                                 Traceback (most recent call last)",
      "\u001b[36mCell\u001b[39m\u001b[36m \u001b[39m\u001b[32mIn[2]\u001b[39m\u001b[32m, line 50\u001b[39m\n\u001b[32m      1\u001b[39m \u001b[38;5;28minput\u001b[39m = [\u001b[33m\"\u001b[39m\u001b[33mC1=CN=CC=C1C(=O)NN\u001b[39m\u001b[33m\"\u001b[39m,\n\u001b[32m      2\u001b[39m     \u001b[33m\"\u001b[39m\u001b[33mc1cc(-c2nn[nH]n2)ccn1\u001b[39m\u001b[33m\"\u001b[39m,\n\u001b[32m      3\u001b[39m     \u001b[33m\"\u001b[39m\u001b[33mNS(=O)(=O)c1ccccc1\u001b[39m\u001b[33m\"\u001b[39m,\n\u001b[32m   (...)\u001b[39m\u001b[32m     47\u001b[39m     \u001b[33m\"\u001b[39m\u001b[33mCC(O)c1ccncc1\u001b[39m\u001b[33m\"\u001b[39m,\n\u001b[32m     48\u001b[39m     \u001b[33m\"\u001b[39m\u001b[33mCc1ccccc1NC(N)=S\u001b[39m\u001b[33m\"\u001b[39m]\n\u001b[32m---> \u001b[39m\u001b[32m50\u001b[39m \u001b[43mmdl_toxicity\u001b[49m.run(\u001b[38;5;28minput\u001b[39m, output=\u001b[33m\"\u001b[39m\u001b[33mTB_Cardiotoxicity_Results.csv\u001b[39m\u001b[33m\"\u001b[39m, batch_size=\u001b[32m100\u001b[39m)\n",
      "\u001b[31mNameError\u001b[39m: name 'mdl_toxicity' is not defined"
     ]
    }
   ],
   "source": [
    "input = [\"C1=CN=CC=C1C(=O)NN\",\n",
    "    \"c1cc(-c2nn[nH]n2)ccn1\",\n",
    "    \"NS(=O)(=O)c1ccccc1\",\n",
    "    \"Nc1cccc(O)c1\",\n",
    "    \"CC(C)(C)OC(N)=O\",\n",
    "    \"CC=C(C)c1ccncc1\",\n",
    "    \"CCCOC(=O)c1ccncc1\",\n",
    "    \"COc1nc(N)nc(N)c1N=O\",\n",
    "    \"OCCc1ccncc1\",\n",
    "    \"N=C(NO)Nc1ccncc1\",\n",
    "    \"NCCCCCC(=O)O\",\n",
    "    \"NC(=O)c1[nH]cnc1N\",\n",
    "    \"Nc1cc([N+](=O)[O-])ccc1I\",\n",
    "    \"Cc1ccc(C(N)=O)cc1\",\n",
    "    \"CCCC(N)C(=O)O\",\n",
    "    \"CC(O)c1ccncc1\",\n",
    "    \"CCC(=O)Oc1ccncc1\",\n",
    "    \"c1cc(-c2cocn2)ccn1\",\n",
    "    \"O=C(O)c1ccncc1\",\n",
    "    \"Nc1ccc(Cl)cc1Cl\",\n",
    "    \"CSc1ccncc1\",\n",
    "    \"NN=CCc1ccccc1F\",\n",
    "    \"N=C(N)C1CCCN1\",\n",
    "    \"CNC(=O)c1ccc(N)cc1\",\n",
    "    \"NC(=O)Nc1ccccc1\",\n",
    "    \"NCC1(O)CCCCCCCC1\",\n",
    "    \"ONCc1ccncc1\",\n",
    "    \"Cc1nnc(S)n(N)c1=O\",\n",
    "    \"Nc1ccc(S(N)(=O)=O)cc1\",\n",
    "    \"CC(=O)N(O)c1ccncc1\",\n",
    "    \"NCCc1ccc(Br)cc1\",\n",
    "    \"C=Cc1ccncc1\",\n",
    "    \"Cc1ccc(N)cc1N\",\n",
    "    \"NC(=O)COc1ccncc1\",\n",
    "    \"CC(=N)Nc1ccc(NN)cc1\",\n",
    "    \"Cc1cnc(N)cn1\",\n",
    "    \"NC(C(=O)O)C(=O)O\",\n",
    "    \"CCCOc1ccncc1\",\n",
    "    \"Cc1ccnc(N)c1\",\n",
    "    \"Cc1ccc2nc(N)sc2c1\",\n",
    "    \"CC(C)OS(N)(=O)=O\",\n",
    "    \"CC1(C)C(N)C1(C)C\",\n",
    "    \"Nc1c(O)[nH]c(=O)[nH]c1=O\",\n",
    "    \"O=CNc1ccncc1\",\n",
    "    \"NCCCCCCCCN\",\n",
    "    \"NCCSSCCN\",\n",
    "    \"CC(O)c1ccncc1\",\n",
    "    \"Cc1ccccc1NC(N)=S\"]\n",
    "\n",
    "mdl_toxicity.run(input, output=\"TB_Cardiotoxicity_Results.csv\", batch_size=100)"
   ]
  },
  {
   "cell_type": "code",
   "execution_count": null,
   "id": "97cbf780-718d-489e-99fc-c5330731053c",
   "metadata": {},
   "outputs": [],
   "source": [
    "OUTPUT: /Users/ziminqian/Desktop/ersilia/TB_Cardiotoxicity_Results.csv"
   ]
  },
  {
   "cell_type": "code",
   "execution_count": null,
   "id": "7d05e12f-4d19-4be9-86c9-464d98d710c5",
   "metadata": {},
   "outputs": [],
   "source": [
    "mdl_toxicity.close()\n",
    "mdl_toxicity.delete()"
   ]
  },
  {
   "cell_type": "code",
   "execution_count": null,
   "id": "48b1f894-3b52-4277-915f-22ed6c02a069",
   "metadata": {},
   "outputs": [],
   "source": []
  },
  {
   "cell_type": "code",
   "execution_count": null,
   "id": "75ccda71-fafd-4eeb-ae2c-8e5019a51c13",
   "metadata": {},
   "outputs": [],
   "source": []
  },
  {
   "cell_type": "markdown",
   "id": "f9061b3a-932f-406e-a7a9-056c1a54b8a4",
   "metadata": {},
   "source": [
    "3. PHARMACOKINETICS PROFILER(PhaKinPro)"
   ]
  },
  {
   "cell_type": "code",
   "execution_count": 2,
   "id": "02144289-8680-4b4c-bad9-d3dbc316a127",
   "metadata": {},
   "outputs": [
    {
     "name": "stdout",
     "output_type": "stream",
     "text": [
      "\u001b[34m⬇️  Fetching model eos39dp: phakinpro\u001b[0m\n",
      "\u001b[34mGetting model source\u001b[0m\n",
      "\u001b[31mModel already exists on your system. If you want to fetch it again, please delete it first.\u001b[0m\n",
      "\u001b[31m👎 Model eos39dp failed to fetch! Model already exists on your system. If you want to fetch it again, please delete the existing model first.\u001b[0m\n",
      "\u001b[32m🚀 Serving model eos39dp: phakinpro\u001b[0m\n",
      "\u001b[0m\n",
      "\u001b[33m   URL: http://0.0.0.0:62494\u001b[0m\n",
      "\u001b[33m   SRV: pulled_docker\u001b[0m\n",
      "\u001b[33m   Session: /Users/patrickwalsh/eos/sessions/session_49833\u001b[0m\n",
      "\u001b[0m\n",
      "\u001b[34m🔄 Cache fetching mode:\u001b[0m\n",
      "\u001b[31m   - Disabled\u001b[0m\n",
      "\u001b[0m\n",
      "\u001b[34m💾 Local cache:\u001b[0m\n",
      "\u001b[32m   - Enabled\u001b[0m\n",
      "\u001b[0m\n",
      "\u001b[34m📈 Tracking:\u001b[0m\n",
      "\u001b[31m   - Disabled\u001b[0m\n"
     ]
    }
   ],
   "source": [
    "from ersilia.api.create_api import ErsiliaAPI\n",
    "#\"eos39dp\" Pharmacokinetics Profiler (PhaKinPro)\n",
    "mdl_pharmacokinetics = ErsiliaAPI(\"eos39dp\")\n",
    "mdl_pharmacokinetics.fetch()\n",
    "mdl_pharmacokinetics.serve()"
   ]
  },
  {
   "cell_type": "code",
   "execution_count": 3,
   "id": "f394ac4c-fa54-4b52-a04c-d077ba9a21b0",
   "metadata": {},
   "outputs": [
    {
     "name": "stdout",
     "output_type": "stream",
     "text": [
      "Starting runner\u001b[0m\n",
      "Running batch 1\u001b[0m\n",
      "Batch 1 response fetched within: 0.0279 seconds\u001b[0m\n",
      "Output is being generated within: 0.18071 seconds\u001b[0m\n",
      "\u001b[32m\u001b[1m✅ The output successfully generated in TB_Pharmacokinetics_Results.csv file!\u001b[0m\n"
     ]
    }
   ],
   "source": [
    "input = [\"C1=CN=CC=C1C(=O)NN\",\n",
    "    \"c1cc(-c2nn[nH]n2)ccn1\",\n",
    "    \"NS(=O)(=O)c1ccccc1\",\n",
    "    \"Nc1cccc(O)c1\",\n",
    "    \"CC(C)(C)OC(N)=O\",\n",
    "    \"CC=C(C)c1ccncc1\",\n",
    "    \"CCCOC(=O)c1ccncc1\",\n",
    "    \"COc1nc(N)nc(N)c1N=O\",\n",
    "    \"OCCc1ccncc1\",\n",
    "    \"N=C(NO)Nc1ccncc1\",\n",
    "    \"NCCCCCC(=O)O\",\n",
    "    \"NC(=O)c1[nH]cnc1N\",\n",
    "    \"Nc1cc([N+](=O)[O-])ccc1I\",\n",
    "    \"Cc1ccc(C(N)=O)cc1\",\n",
    "    \"CCCC(N)C(=O)O\",\n",
    "    \"CC(O)c1ccncc1\",\n",
    "    \"CCC(=O)Oc1ccncc1\",\n",
    "    \"c1cc(-c2cocn2)ccn1\",\n",
    "    \"O=C(O)c1ccncc1\",\n",
    "    \"Nc1ccc(Cl)cc1Cl\",\n",
    "    \"CSc1ccncc1\",\n",
    "    \"NN=CCc1ccccc1F\",\n",
    "    \"N=C(N)C1CCCN1\",\n",
    "    \"CNC(=O)c1ccc(N)cc1\",\n",
    "    \"NC(=O)Nc1ccccc1\",\n",
    "    \"NCC1(O)CCCCCCCC1\",\n",
    "    \"ONCc1ccncc1\",\n",
    "    \"Cc1nnc(S)n(N)c1=O\",\n",
    "    \"Nc1ccc(S(N)(=O)=O)cc1\",\n",
    "    \"CC(=O)N(O)c1ccncc1\",\n",
    "    \"NCCc1ccc(Br)cc1\",\n",
    "    \"C=Cc1ccncc1\",\n",
    "    \"Cc1ccc(N)cc1N\",\n",
    "    \"NC(=O)COc1ccncc1\",\n",
    "    \"CC(=N)Nc1ccc(NN)cc1\",\n",
    "    \"Cc1cnc(N)cn1\",\n",
    "    \"NC(C(=O)O)C(=O)O\",\n",
    "    \"CCCOc1ccncc1\",\n",
    "    \"Cc1ccnc(N)c1\",\n",
    "    \"Cc1ccc2nc(N)sc2c1\",\n",
    "    \"CC(C)OS(N)(=O)=O\",\n",
    "    \"CC1(C)C(N)C1(C)C\",\n",
    "    \"Nc1c(O)[nH]c(=O)[nH]c1=O\",\n",
    "    \"O=CNc1ccncc1\",\n",
    "    \"NCCCCCCCCN\",\n",
    "    \"NCCSSCCN\",\n",
    "    \"CC(O)c1ccncc1\",\n",
    "    \"Cc1ccccc1NC(N)=S\"]\n",
    "\n",
    "mdl_pharmacokinetics.run(input, output=\"TB_Pharmacokinetics_Results.csv\", batch_size=100)"
   ]
  },
  {
   "cell_type": "code",
   "execution_count": 3,
   "id": "74a13caa-0b41-473a-bbef-a94ffb4aba01",
   "metadata": {},
   "outputs": [
    {
     "name": "stdout",
     "output_type": "stream",
     "text": [
      "\u001b[32m⛔ Model eos39dp closed\u001b[0m\n",
      "Deleting model eos39dp\u001b[0m\n",
      "\u001b[32m💥 Model eos39dp deleted successfully!\u001b[0m\n"
     ]
    }
   ],
   "source": [
    "mdl_pharmacokinetics.close()\n",
    "mdl_pharmacokinetics.delete()"
   ]
  },
  {
   "cell_type": "code",
   "execution_count": null,
   "id": "84b1c4e3-21c8-47fe-a455-34051274b474",
   "metadata": {},
   "outputs": [],
   "source": []
  },
  {
   "cell_type": "code",
   "execution_count": null,
   "id": "9e0bff1a-da10-4193-8849-29a3381a2c1d",
   "metadata": {},
   "outputs": [],
   "source": []
  },
  {
   "cell_type": "markdown",
   "id": "dbd5d2e7-d565-4002-981f-08321421e88e",
   "metadata": {},
   "source": [
    "Tangent: Cardiotoxicity of Alcohol"
   ]
  },
  {
   "cell_type": "markdown",
   "id": "9fa5af0c-2b6f-4c1d-9696-2b1818c67b42",
   "metadata": {},
   "source": [
    "Ethanol: CCO"
   ]
  },
  {
   "cell_type": "markdown",
   "id": "ba8d0bf4-18ec-43b2-9b48-6effd13a6e92",
   "metadata": {},
   "source": [
    "THC: CCCCCC1=CC(=C2[C@@H]3C=C(CC[C@H]3C(OC2=C1)(C)C)C)O\n"
   ]
  },
  {
   "cell_type": "markdown",
   "id": "43e92032-d0f6-42d7-b0b6-723a57993a93",
   "metadata": {},
   "source": [
    "Psilocybin: CN(C)CCC1=CNC2=C1C(=CC=C2)OP(=O)(O)O"
   ]
  },
  {
   "cell_type": "code",
   "execution_count": null,
   "id": "2fbdabd0-2e09-4214-b86f-9182693c7911",
   "metadata": {},
   "outputs": [],
   "source": [
    "input = [\"CCO\", \"CCCCCC1=CC(=C2[C@@H]3C=C(CC[C@H]3C(OC2=C1)(C)C)C)O\", \"CN(C)CCC1=CNC2=C1C(=CC=C2)OP(=O)(O)O\"]\n",
    "mdl_toxicity.run(input, output=\"Drug_Cardiotoxicity_Results.csv\", batch_size=100)"
   ]
  },
  {
   "cell_type": "code",
   "execution_count": null,
   "id": "b4967618-f2a7-4c3f-ba08-7775c4545f79",
   "metadata": {},
   "outputs": [],
   "source": [
    "Output: /Users/ziminqian/Desktop/ersilia/Drug_Cardiotoxicity_Results.csv"
   ]
  },
  {
   "cell_type": "code",
   "execution_count": null,
   "id": "5018e4e9-d9cf-44a9-91b3-398b713817ae",
   "metadata": {},
   "outputs": [],
   "source": [
    "key,input,cardiotoxicity_risk\n",
    "\"47029b0a89b677c61d67c3a1b1071f07\",\"CCO\",0.4987850927523634\n",
    "\"309faa120a4e3f1f7fe822e5f9556545\",\"CCCCCC1=CC(=C2[C@@H]3C=C(CC[C@H]3C(OC2=C1)(C)C)C)O\",0.8919920695276052\n",
    "\"6a72d75cda57b75f152b856ad3922937\",\"CN(C)CCC1=CNC2=C1C(=CC=C2)OP(=O)(O)O\",0.8097184533513834"
   ]
  },
  {
   "cell_type": "code",
   "execution_count": null,
   "id": "7f588c96-fbba-4984-a42f-af8308fba03b",
   "metadata": {},
   "outputs": [],
   "source": [
    "Predict micro-pKa of organic molecules"
   ]
  },
  {
   "cell_type": "code",
   "execution_count": null,
   "id": "6d91b32e-bc8a-4f4d-9886-4c182ab260c6",
   "metadata": {},
   "outputs": [],
   "source": []
  }
 ],
 "metadata": {
  "kernelspec": {
   "display_name": "Python 3 (ipykernel)",
   "language": "python",
   "name": "python3"
  },
  "language_info": {
   "codemirror_mode": {
    "name": "ipython",
    "version": 3
   },
   "file_extension": ".py",
   "mimetype": "text/x-python",
   "name": "python",
   "nbconvert_exporter": "python",
   "pygments_lexer": "ipython3",
   "version": "3.12.11"
  }
 },
 "nbformat": 4,
 "nbformat_minor": 5
}
