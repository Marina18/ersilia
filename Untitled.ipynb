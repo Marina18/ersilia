{
 "cells": [
  {
   "cell_type": "code",
   "execution_count": null,
   "id": "823699a0-cf69-4bc7-9c91-5ecb1cc05aaf",
   "metadata": {},
   "outputs": [],
   "source": [
    "from ersilia.api import Model\n",
    "\n",
    "fastsolv = Model(\"eos78ao\")\n",
    "fastsolv.fetch()\n",
    "fastsolv.serve()"
   ]
  },
  {
   "cell_type": "code",
   "execution_count": null,
   "id": "327c4c2d-91e6-43c9-a3f3-40df931c0900",
   "metadata": {},
   "outputs": [],
   "source": []
  }
 ],
 "metadata": {
  "kernelspec": {
   "display_name": "Python (ersilia)",
   "language": "python",
   "name": "ersilia"
  },
  "language_info": {
   "name": ""
  }
 },
 "nbformat": 4,
 "nbformat_minor": 5
}
