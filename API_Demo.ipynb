{
 "cells": [
  {
   "cell_type": "code",
   "execution_count": 1,
   "id": "b948da65-9d38-4978-832f-cff6fdfba182",
   "metadata": {},
   "outputs": [
    {
     "name": "stderr",
     "output_type": "stream",
     "text": [
      "/Users/patrickwalsh/miniconda3/envs/ersilia/lib/python3.12/site-packages/requests/__init__.py:86: RequestsDependencyWarning: Unable to find acceptable character detection dependency (chardet or charset_normalizer).\n",
      "  warnings.warn(\n"
     ]
    }
   ],
   "source": [
    "import pandas as pd\n",
    "from ersilia.api.create_api import ErsiliaAPI\n",
    "gen_mdl = ErsiliaAPI(\"eos4q1a\")\n",
    "# sim_mdl = ErsiliaAPI(\"eos9c7k\") # ECFP4 Tanimoto neighbors\n",
    "# act_mdl = ErsiliaAPI(\"eos4e40\") # broad-spectrum antibiotic RF"
   ]
  },
  {
   "cell_type": "code",
   "execution_count": 2,
   "id": "bf5f7b93-cd10-4af7-902c-dd4f28e728ff",
   "metadata": {},
   "outputs": [
    {
     "name": "stdout",
     "output_type": "stream",
     "text": [
      "\u001b[34m⬇️  Fetching model eos4q1a: crem-structure-generation\u001b[0m\n",
      "\u001b[34mGetting model source\u001b[0m\n",
      "\u001b[31mModel already exists on your system. If you want to fetch it again, please delete it first.\u001b[0m\n",
      "\u001b[31m👎 Model eos4q1a failed to fetch! Model already exists on your system. If you want to fetch it again, please delete the existing model first.\u001b[0m\n"
     ]
    }
   ],
   "source": [
    "gen_mdl.fetch()\n",
    "# sim_mdl.fetch()\n",
    "# act_mdl.fetch()"
   ]
  },
  {
   "cell_type": "code",
   "execution_count": 2,
   "id": "1fef7a32-9fd7-48e5-8a00-ec57ad40834e",
   "metadata": {},
   "outputs": [],
   "source": [
    "# ErsiliaAPI Class Live Demo\n",
    "# Demonstrate fetch, serve, run, info, example, close, and delete for one or more models."
   ]
  },
  {
   "cell_type": "code",
   "execution_count": 3,
   "id": "0b8b76b5-835b-4db9-b7fb-2730d58cb05b",
   "metadata": {},
   "outputs": [
    {
     "name": "stderr",
     "output_type": "stream",
     "text": [
      "/Users/patrickwalsh/miniconda3/envs/ersilia/lib/python3.12/site-packages/requests/__init__.py:86: RequestsDependencyWarning: Unable to find acceptable character detection dependency (chardet or charset_normalizer).\n",
      "  warnings.warn(\n"
     ]
    }
   ],
   "source": [
    "# 1) Imports\n",
    "from ersilia.api.create_api import ErsiliaAPI\n",
    "import pandas as pd"
   ]
  },
  {
   "cell_type": "code",
   "execution_count": 4,
   "id": "8a844182-8be4-4292-a262-509454f5eb99",
   "metadata": {},
   "outputs": [],
   "source": [
    "## 2) Prepare SMILES and Model IDs"
   ]
  },
  {
   "cell_type": "code",
   "execution_count": 5,
   "id": "b1c502ae-6aa8-4b00-8d45-ad39a209c291",
   "metadata": {},
   "outputs": [],
   "source": [
    "smiles_list = [\"CCCCO\", \"C\", \"CC\"]\n",
    "\n",
    "model_ids = {\n",
    "    \"HDAC3 inhibitors\":        \"eos1n4b\",\n",
    "    \"Carcinogenic potential\":  \"eos1579\",\n",
    "    \"Cardiotoxicity Classifier\":\"eos1pu1\",\n",
    "    # …add more as desired…\n",
    "}"
   ]
  },
  {
   "cell_type": "code",
   "execution_count": 6,
   "id": "a1190d89-62ba-4d75-8f1e-cbff672cdda0",
   "metadata": {},
   "outputs": [],
   "source": [
    "## 3) One‐off demo for a single model"
   ]
  },
  {
   "cell_type": "code",
   "execution_count": 9,
   "id": "cf987016-d108-4857-937d-0bcf39b95801",
   "metadata": {},
   "outputs": [
    {
     "name": "stdout",
     "output_type": "stream",
     "text": [
      "\u001b[34m⬇️  Fetching model eos1n4b: hdac3-inhibition\u001b[0m\n",
      "\u001b[34mGetting model source\u001b[0m\n",
      "\u001b[34mModel doesn't exist on your system, fetching it now.\u001b[0m\n",
      "\u001b[34mInitiating fetch from DockerHub — this process may take some time...\u001b[0m\n",
      "\u001b[34mWriting model source to file\u001b[0m\n",
      "\u001b[32m👍 Model eos1n4b fetched successfully!\u001b[0m\n",
      "\u001b[34mServing model. This process may take some time...\u001b[0m\n",
      "\u001b[32m🚀 Serving model eos1n4b: hdac3-inhibition\u001b[0m\n",
      "\u001b[0m\n",
      "\u001b[33m   URL: http://0.0.0.0:65240\u001b[0m\n",
      "\u001b[33m   SRV: pulled_docker\u001b[0m\n",
      "\u001b[33m   Session: /Users/patrickwalsh/eos/sessions/session_62947\u001b[0m\n",
      "\u001b[0m\n",
      "\u001b[34m🔄 Cache fetching mode:\u001b[0m\n",
      "\u001b[31m   - Disabled\u001b[0m\n",
      "\u001b[0m\n",
      "\u001b[34m💾 Local cache:\u001b[0m\n",
      "\u001b[32m   - Enabled\u001b[0m\n",
      "\u001b[0m\n",
      "\u001b[34m📈 Tracking:\u001b[0m\n",
      "\u001b[31m   - Disabled\u001b[0m\n",
      "Starting runner\u001b[0m\n",
      "Running batch 1\u001b[0m\n",
      "Batch 1 response fetched within: 0.6808 seconds\u001b[0m\n",
      "Output is being generated within: 0.74896 seconds\u001b[0m\n",
      "\u001b[32m\u001b[1m✅ The output successfully generated in output_results.csv file!\u001b[0m\n"
     ]
    },
    {
     "data": {
      "text/html": [
       "<div>\n",
       "<style scoped>\n",
       "    .dataframe tbody tr th:only-of-type {\n",
       "        vertical-align: middle;\n",
       "    }\n",
       "\n",
       "    .dataframe tbody tr th {\n",
       "        vertical-align: top;\n",
       "    }\n",
       "\n",
       "    .dataframe thead th {\n",
       "        text-align: right;\n",
       "    }\n",
       "</style>\n",
       "<table border=\"1\" class=\"dataframe\">\n",
       "  <thead>\n",
       "    <tr style=\"text-align: right;\">\n",
       "      <th></th>\n",
       "      <th>key</th>\n",
       "      <th>input</th>\n",
       "      <th>hdac3_inhibition_probability</th>\n",
       "    </tr>\n",
       "  </thead>\n",
       "  <tbody>\n",
       "    <tr>\n",
       "      <th>0</th>\n",
       "      <td>ebf0d0b3c02b378d6567c12c068c75f4</td>\n",
       "      <td>CCCCO</td>\n",
       "      <td>0.003385</td>\n",
       "    </tr>\n",
       "    <tr>\n",
       "      <th>1</th>\n",
       "      <td>0d61f8370cad1d412f80b84d143e1257</td>\n",
       "      <td>C</td>\n",
       "      <td>0.000374</td>\n",
       "    </tr>\n",
       "    <tr>\n",
       "      <th>2</th>\n",
       "      <td>aa53ca0b650dfd85c4f59fa156f7a2cc</td>\n",
       "      <td>CC</td>\n",
       "      <td>0.000476</td>\n",
       "    </tr>\n",
       "  </tbody>\n",
       "</table>\n",
       "</div>"
      ],
      "text/plain": [
       "                                key  input  hdac3_inhibition_probability\n",
       "0  ebf0d0b3c02b378d6567c12c068c75f4  CCCCO                      0.003385\n",
       "1  0d61f8370cad1d412f80b84d143e1257      C                      0.000374\n",
       "2  aa53ca0b650dfd85c4f59fa156f7a2cc     CC                      0.000476"
      ]
     },
     "metadata": {},
     "output_type": "display_data"
    },
    {
     "name": "stdout",
     "output_type": "stream",
     "text": [
      "\u001b[34m\u001b[1m🚀 Identifying HDAC3 inhibitors\u001b[0m\n",
      "\u001b[34mThe model predicts the inhibitory potential of small molecules against Histone deacetylase 3 (HDAC3), a relevant human target for cancer, inflammation, neurodegenerative diseases and diabetes. The authors have used a dataset of 1098 compounds from ChEMBL and validated the model using the benchmark MUBD-HDAC3.\u001b[0m\n",
      "\u001b[0m\n",
      "\u001b[32m\u001b[1m💁 Identifiers\u001b[0m\n",
      "\u001b[32mModel identifiers: eos1n4b\u001b[0m\n",
      "\u001b[32mSlug: hdac3-inhibition\u001b[0m\n",
      "\u001b[0m\n",
      "\u001b[31m\u001b[1m🤓 Code and parameters\u001b[0m\n",
      "\u001b[31mGitHub: https://github.com/ersilia-os/eos1n4b\u001b[0m\n",
      "\u001b[31mAWS S3: https://ersilia-models-zipped.s3.eu-central-1.amazonaws.com/eos1n4b.zip\u001b[0m\n",
      "\u001b[0m\n",
      "\u001b[34m\u001b[1m🐋 Docker\u001b[0m\n",
      "\u001b[34mDocker Hub: https://hub.docker.com/r/ersiliaos/eos1n4b\u001b[0m\n",
      "\u001b[34mArchitectures: AMD64\u001b[0m\n",
      "\u001b[0m\n",
      "\u001b[30mFor more information, please visit https://ersilia.io/model-hub\u001b[0m\n",
      "\u001b[32m\u001b[1m✅ Examples successfully saved to example_output_pw.csv\u001b[0m\n",
      "\u001b[32m⛔ Model eos1n4b closed\u001b[0m\n",
      "Deleting model eos1n4b\u001b[0m\n",
      "\u001b[32m💥 Model eos1n4b deleted successfully!\u001b[0m\n"
     ]
    }
   ],
   "source": [
    "# Instantiate and fetch the model\n",
    "api = ErsiliaAPI(\"eos1n4b\")       # HDAC3 inhibitors\n",
    "api.fetch(verbose=False)\n",
    "\n",
    "# Serve (starts a local server—run in its own cell so you can interrupt if needed)\n",
    "api.serve()\n",
    "\n",
    "# Run on your SMILES list\n",
    "api.run(\n",
    "    input=smiles_list,\n",
    "    output=\"output_results.csv\",\n",
    "    batch_size=100\n",
    ")\n",
    "df = pd.read_csv(\"output_results.csv\")\n",
    "display(df.head())\n",
    "\n",
    "# Inspect model metadata\n",
    "api.info()\n",
    "\n",
    "# Generate a small example output (here: 5 samples)\n",
    "api.example(\n",
    "    \"example_output_pw.csv\",   # output prefix\n",
    "    True,                  # as_json\n",
    "    True,                  # as_table\n",
    "    5,                     # n_samples\n",
    "    False                  # try_predefined\n",
    ")\n",
    "\n",
    "# Clean up\n",
    "api.close()\n",
    "api.delete()"
   ]
  },
  {
   "cell_type": "markdown",
   "id": "d6734bab-f835-4aa0-80b1-b94c51dc4c51",
   "metadata": {},
   "source": [
    "## Demo II\n",
    "\n",
    "This notebook demonstrates how to profile small molecules using two Ersilia models in tandem:\n",
    "\n",
    "- **HDAC3 Inhibitor Model (`eos1n4b`)**  \n",
    "  - Predicts the inhibitory potential of compounds against Histone deacetylase 3 (HDAC3), a key target in cancer, inflammation and neurodegeneration.  \n",
    "- **Cardiotoxicity Classifier (`eos1pu1`)**  \n",
    "  - Estimates the risk of drug-induced cardiotoxicity, providing a probability score based on chemical descriptors and biological signatures.\n",
    "\n",
    "### Workflow in Tandem\n",
    "\n",
    "1. **Sample Generation**  \n",
    "   - Use the HDAC3 model’s `example()` endpoint to generate a set of representative SMILES strings.  \n",
    "   - Ensures both models see the same chemically relevant inputs.\n",
    "\n",
    "2. **Parallel Predictions**  \n",
    "   - **HDAC3 Inhibition**: Compute an activity score for each SMILES.  \n",
    "   - **Cardiotoxicity Risk**: Compute a cardiotoxicity probability for the same SMILES.\n",
    "\n",
    "3. **Comparative Analysis**  \n",
    "   - Identify molecules that are **potent HDAC3 inhibitors** with **low cardiotoxicity** (ideal leads),  \n",
    "     or conversely those with conflicting profiles that may require structural optimization.\n",
    "\n",
    "4. **Model Lifecycle Management**  \n",
    "   - Illustrates the full ErsiliaAPI cycle:  \n",
    "     `fetch()` → `serve()` → `example()` → `run()` → `close()` → `delete()`,  \n",
    "     ensuring reproducibility, performance, and resource cleanup.\n",
    "\n",
    "### Benefits of Tandem Profiling\n",
    "\n",
    "- **Integrated Lead Triage**: Simultaneously evaluate efficacy and safety metrics.  \n",
    "- **Streamlined Workflow**: One notebook handles multi-model inference end-to-end.  \n",
    "- **Efficiency**: Pre-serving models reduces overhead when running multiple predictions."
   ]
  },
  {
   "cell_type": "code",
   "execution_count": 8,
   "id": "4660407a-a202-4f16-b88a-c5b01b8e5475",
   "metadata": {},
   "outputs": [
    {
     "name": "stdout",
     "output_type": "stream",
     "text": [
      "\u001b[34m⬇️  Fetching model eos1n4b: hdac3-inhibition\u001b[0m\n",
      "\u001b[34mGetting model source\u001b[0m\n",
      "\u001b[31mModel already exists on your system. If you want to fetch it again, please delete it first.\u001b[0m\n",
      "\u001b[31m👎 Model eos1n4b failed to fetch! Model already exists on your system. If you want to fetch it again, please delete the existing model first.\u001b[0m\n",
      "\u001b[34m⬇️  Fetching model eos1pu1: cardiotox-dictrank\u001b[0m\n",
      "\u001b[34mGetting model source\u001b[0m\n",
      "\u001b[31mModel already exists on your system. If you want to fetch it again, please delete it first.\u001b[0m\n",
      "\u001b[31m👎 Model eos1pu1 failed to fetch! Model already exists on your system. If you want to fetch it again, please delete the existing model first.\u001b[0m\n"
     ]
    }
   ],
   "source": [
    "# %% 1) Imports & pre-fetch/serve both models\n",
    "from ersilia.api.create_api import ErsiliaAPI\n",
    "import pandas as pd\n",
    "\n",
    "# HDAC3 inhibitors\n",
    "hdac3_api = ErsiliaAPI(\"eos1n4b\")\n",
    "hdac3_api.fetch(verbose=False)\n",
    "\n",
    "# Cardiotoxicity Classifier\n",
    "cardio_api = ErsiliaAPI(\"eos1pu1\")\n",
    "cardio_api.fetch(verbose=False)"
   ]
  },
  {
   "cell_type": "code",
   "execution_count": 12,
   "id": "23ab359e-696f-41d1-af1f-55f243a51dc0",
   "metadata": {},
   "outputs": [
    {
     "name": "stdout",
     "output_type": "stream",
     "text": [
      "\u001b[34mServing model. This process may take some time...\u001b[0m\n",
      "\u001b[32m🚀 Serving model eos1n4b: hdac3-inhibition\u001b[0m\n",
      "\u001b[0m\n",
      "\u001b[33m   URL: http://0.0.0.0:50572\u001b[0m\n",
      "\u001b[33m   SRV: pulled_docker\u001b[0m\n",
      "\u001b[33m   Session: /Users/patrickwalsh/eos/sessions/session_70883\u001b[0m\n",
      "\u001b[0m\n",
      "\u001b[34m🔄 Cache fetching mode:\u001b[0m\n",
      "\u001b[31m   - Disabled\u001b[0m\n",
      "\u001b[0m\n",
      "\u001b[34m💾 Local cache:\u001b[0m\n",
      "\u001b[32m   - Enabled\u001b[0m\n",
      "\u001b[0m\n",
      "\u001b[34m📈 Tracking:\u001b[0m\n",
      "\u001b[31m   - Disabled\u001b[0m\n",
      "\u001b[33mNo predefined examples found for the model. Generating random examples.\u001b[0m\n",
      "\u001b[32m\u001b[1m✅ Examples successfully saved to hdac3_samples.csv\u001b[0m\n",
      "HDAC3 example SMILES:\n"
     ]
    },
    {
     "data": {
      "text/html": [
       "<div>\n",
       "<style scoped>\n",
       "    .dataframe tbody tr th:only-of-type {\n",
       "        vertical-align: middle;\n",
       "    }\n",
       "\n",
       "    .dataframe tbody tr th {\n",
       "        vertical-align: top;\n",
       "    }\n",
       "\n",
       "    .dataframe thead th {\n",
       "        text-align: right;\n",
       "    }\n",
       "</style>\n",
       "<table border=\"1\" class=\"dataframe\">\n",
       "  <thead>\n",
       "    <tr style=\"text-align: right;\">\n",
       "      <th></th>\n",
       "      <th>input</th>\n",
       "    </tr>\n",
       "  </thead>\n",
       "  <tbody>\n",
       "    <tr>\n",
       "      <th>0</th>\n",
       "      <td>OC(=O)CN(CCN(CC(O)=O)CC(O)=O)CCN(CC(O)=O)CC(O)=O</td>\n",
       "    </tr>\n",
       "    <tr>\n",
       "      <th>1</th>\n",
       "      <td>[H][C@@]12CC(=O)N1[C@@H](C(O)=O)[C@](C)(Cn1cc[...</td>\n",
       "    </tr>\n",
       "    <tr>\n",
       "      <th>2</th>\n",
       "      <td>FC(F)(F)c1ccc(CCN2CCC3(CC2)OC(=O)Nc2ccccc32)cc1</td>\n",
       "    </tr>\n",
       "    <tr>\n",
       "      <th>3</th>\n",
       "      <td>CCS(=O)(=O)N1CC(CC#N)(C1)n1cc(cn1)-c1ncnc2[nH]...</td>\n",
       "    </tr>\n",
       "    <tr>\n",
       "      <th>4</th>\n",
       "      <td>CCOc1ccc2nc(sc2c1)S(N)(=O)=O</td>\n",
       "    </tr>\n",
       "  </tbody>\n",
       "</table>\n",
       "</div>"
      ],
      "text/plain": [
       "                                               input\n",
       "0   OC(=O)CN(CCN(CC(O)=O)CC(O)=O)CCN(CC(O)=O)CC(O)=O\n",
       "1  [H][C@@]12CC(=O)N1[C@@H](C(O)=O)[C@](C)(Cn1cc[...\n",
       "2    FC(F)(F)c1ccc(CCN2CCC3(CC2)OC(=O)Nc2ccccc32)cc1\n",
       "3  CCS(=O)(=O)N1CC(CC#N)(C1)n1cc(cn1)-c1ncnc2[nH]...\n",
       "4                       CCOc1ccc2nc(sc2c1)S(N)(=O)=O"
      ]
     },
     "metadata": {},
     "output_type": "display_data"
    },
    {
     "name": "stdout",
     "output_type": "stream",
     "text": [
      "Starting runner\u001b[0m\n",
      "Running batch 1\u001b[0m\n",
      "Batch 1 response fetched within: 0.9262 seconds\u001b[0m\n",
      "Output is being generated within: 1.01028 seconds\u001b[0m\n",
      "\u001b[32m\u001b[1m✅ The output successfully generated in hdac3_predictions.csv file!\u001b[0m\n",
      "HDAC3 predictions:\n"
     ]
    },
    {
     "data": {
      "text/html": [
       "<div>\n",
       "<style scoped>\n",
       "    .dataframe tbody tr th:only-of-type {\n",
       "        vertical-align: middle;\n",
       "    }\n",
       "\n",
       "    .dataframe tbody tr th {\n",
       "        vertical-align: top;\n",
       "    }\n",
       "\n",
       "    .dataframe thead th {\n",
       "        text-align: right;\n",
       "    }\n",
       "</style>\n",
       "<table border=\"1\" class=\"dataframe\">\n",
       "  <thead>\n",
       "    <tr style=\"text-align: right;\">\n",
       "      <th></th>\n",
       "      <th>key</th>\n",
       "      <th>input</th>\n",
       "      <th>hdac3_inhibition_probability</th>\n",
       "    </tr>\n",
       "  </thead>\n",
       "  <tbody>\n",
       "    <tr>\n",
       "      <th>0</th>\n",
       "      <td>7d32633741f575b15e7a5e15642ca965</td>\n",
       "      <td>OC(=O)CN(CCN(CC(O)=O)CC(O)=O)CCN(CC(O)=O)CC(O)=O</td>\n",
       "      <td>0.001670</td>\n",
       "    </tr>\n",
       "    <tr>\n",
       "      <th>1</th>\n",
       "      <td>94634f5cc4be189901b1085b340c4d2e</td>\n",
       "      <td>[H][C@@]12CC(=O)N1[C@@H](C(O)=O)[C@](C)(Cn1cc[...</td>\n",
       "      <td>0.039806</td>\n",
       "    </tr>\n",
       "    <tr>\n",
       "      <th>2</th>\n",
       "      <td>ee5340dd9e9bc03c45a9c4cc1ba44416</td>\n",
       "      <td>FC(F)(F)c1ccc(CCN2CCC3(CC2)OC(=O)Nc2ccccc32)cc1</td>\n",
       "      <td>0.222362</td>\n",
       "    </tr>\n",
       "    <tr>\n",
       "      <th>3</th>\n",
       "      <td>ea126e7059042c39a6edb1355b0257d6</td>\n",
       "      <td>CCS(=O)(=O)N1CC(CC#N)(C1)n1cc(cn1)-c1ncnc2[nH]...</td>\n",
       "      <td>0.831534</td>\n",
       "    </tr>\n",
       "    <tr>\n",
       "      <th>4</th>\n",
       "      <td>9fd7a350a4677316e8209900796b9775</td>\n",
       "      <td>CCOc1ccc2nc(sc2c1)S(N)(=O)=O</td>\n",
       "      <td>0.805904</td>\n",
       "    </tr>\n",
       "  </tbody>\n",
       "</table>\n",
       "</div>"
      ],
      "text/plain": [
       "                                key  \\\n",
       "0  7d32633741f575b15e7a5e15642ca965   \n",
       "1  94634f5cc4be189901b1085b340c4d2e   \n",
       "2  ee5340dd9e9bc03c45a9c4cc1ba44416   \n",
       "3  ea126e7059042c39a6edb1355b0257d6   \n",
       "4  9fd7a350a4677316e8209900796b9775   \n",
       "\n",
       "                                               input  \\\n",
       "0   OC(=O)CN(CCN(CC(O)=O)CC(O)=O)CCN(CC(O)=O)CC(O)=O   \n",
       "1  [H][C@@]12CC(=O)N1[C@@H](C(O)=O)[C@](C)(Cn1cc[...   \n",
       "2    FC(F)(F)c1ccc(CCN2CCC3(CC2)OC(=O)Nc2ccccc32)cc1   \n",
       "3  CCS(=O)(=O)N1CC(CC#N)(C1)n1cc(cn1)-c1ncnc2[nH]...   \n",
       "4                       CCOc1ccc2nc(sc2c1)S(N)(=O)=O   \n",
       "\n",
       "   hdac3_inhibition_probability  \n",
       "0                      0.001670  \n",
       "1                      0.039806  \n",
       "2                      0.222362  \n",
       "3                      0.831534  \n",
       "4                      0.805904  "
      ]
     },
     "metadata": {},
     "output_type": "display_data"
    }
   ],
   "source": [
    "# %% 2) HDAC3 model: example → run\n",
    "# 2a) Generate 5 example SMILES\n",
    "hdac3_api.serve()\n",
    "hdac3_api.example(\n",
    "    \"hdac3_samples.csv\",\n",
    "    simple=True,        # only SMILES column\n",
    "    random=False,       # sample from model’s built-in examples if available\n",
    "    n_samples=5,\n",
    "    deterministic=False\n",
    ")\n",
    "df_hdac3_examples = pd.read_csv(\"hdac3_samples.csv\")\n",
    "print(\"HDAC3 example SMILES:\")\n",
    "display(df_hdac3_examples)\n",
    "\n",
    "# 2b) Predict inhibitory potential\n",
    "hdac3_api.run(\n",
    "    input=df_hdac3_examples[\"input\"].tolist(),\n",
    "    output=\"hdac3_predictions.csv\",\n",
    "    batch_size=5\n",
    ")\n",
    "df_hdac3_pred = pd.read_csv(\"hdac3_predictions.csv\")\n",
    "print(\"HDAC3 predictions:\")\n",
    "display(df_hdac3_pred)"
   ]
  },
  {
   "cell_type": "code",
   "execution_count": 14,
   "id": "44ed72c4-9c04-446a-8cb0-a8dfe6d2bb88",
   "metadata": {},
   "outputs": [
    {
     "name": "stdout",
     "output_type": "stream",
     "text": [
      "\u001b[34mServing model. This process may take some time...\u001b[0m\n",
      "\u001b[32m🚀 Serving model eos1pu1: cardiotox-dictrank\u001b[0m\n",
      "\u001b[0m\n",
      "\u001b[33m   URL: http://0.0.0.0:50659\u001b[0m\n",
      "\u001b[33m   SRV: pulled_docker\u001b[0m\n",
      "\u001b[33m   Session: /Users/patrickwalsh/eos/sessions/session_70883\u001b[0m\n",
      "\u001b[0m\n",
      "\u001b[34m🔄 Cache fetching mode:\u001b[0m\n",
      "\u001b[31m   - Disabled\u001b[0m\n",
      "\u001b[0m\n",
      "\u001b[34m💾 Local cache:\u001b[0m\n",
      "\u001b[32m   - Enabled\u001b[0m\n",
      "\u001b[0m\n",
      "\u001b[34m📈 Tracking:\u001b[0m\n",
      "\u001b[31m   - Disabled\u001b[0m\n",
      "\u001b[33mNo predefined examples found for the model. Generating random examples.\u001b[0m\n",
      "\u001b[32m\u001b[1m✅ Examples successfully saved to cardio_samples.csv\u001b[0m\n",
      "Cardiotoxicity example SMILES:\n"
     ]
    },
    {
     "data": {
      "text/html": [
       "<div>\n",
       "<style scoped>\n",
       "    .dataframe tbody tr th:only-of-type {\n",
       "        vertical-align: middle;\n",
       "    }\n",
       "\n",
       "    .dataframe tbody tr th {\n",
       "        vertical-align: top;\n",
       "    }\n",
       "\n",
       "    .dataframe thead th {\n",
       "        text-align: right;\n",
       "    }\n",
       "</style>\n",
       "<table border=\"1\" class=\"dataframe\">\n",
       "  <thead>\n",
       "    <tr style=\"text-align: right;\">\n",
       "      <th></th>\n",
       "      <th>input</th>\n",
       "    </tr>\n",
       "  </thead>\n",
       "  <tbody>\n",
       "    <tr>\n",
       "      <th>0</th>\n",
       "      <td>OC(=O)c1ccc(cc1)S(=O)(=O)N(Cc1ccc(OC(F)(F)F)cc...</td>\n",
       "    </tr>\n",
       "    <tr>\n",
       "      <th>1</th>\n",
       "      <td>Cc1cn2cc(CC(=O)N3CCC4(CN(C4)[C@@H]4CCc5cc(ccc4...</td>\n",
       "    </tr>\n",
       "    <tr>\n",
       "      <th>2</th>\n",
       "      <td>O=c1n2CCCCCc2nc2ccccc12</td>\n",
       "    </tr>\n",
       "    <tr>\n",
       "      <th>3</th>\n",
       "      <td>COc1cc(\\C=C2/CCC\\C(=C/c3ccc(O)c(OC)c3)C2=O)ccc1O</td>\n",
       "    </tr>\n",
       "    <tr>\n",
       "      <th>4</th>\n",
       "      <td>OC(=O)c1cc(C(O)=O)c(cc1C(O)=O)C(=O)N(Cc1cccc(O...</td>\n",
       "    </tr>\n",
       "  </tbody>\n",
       "</table>\n",
       "</div>"
      ],
      "text/plain": [
       "                                               input\n",
       "0  OC(=O)c1ccc(cc1)S(=O)(=O)N(Cc1ccc(OC(F)(F)F)cc...\n",
       "1  Cc1cn2cc(CC(=O)N3CCC4(CN(C4)[C@@H]4CCc5cc(ccc4...\n",
       "2                            O=c1n2CCCCCc2nc2ccccc12\n",
       "3   COc1cc(\\C=C2/CCC\\C(=C/c3ccc(O)c(OC)c3)C2=O)ccc1O\n",
       "4  OC(=O)c1cc(C(O)=O)c(cc1C(O)=O)C(=O)N(Cc1cccc(O..."
      ]
     },
     "metadata": {},
     "output_type": "display_data"
    },
    {
     "name": "stdout",
     "output_type": "stream",
     "text": [
      "Starting runner\u001b[0m\n",
      "Running batch 1\u001b[0m\n",
      "Batch 1 response fetched within: 5.4259 seconds\u001b[0m\n",
      "Output is being generated within: 5.57123 seconds\u001b[0m\n",
      "\u001b[32m\u001b[1m✅ The output successfully generated in cardio_predictions.csv file!\u001b[0m\n",
      "Cardiotoxicity predictions:\n"
     ]
    },
    {
     "data": {
      "text/html": [
       "<div>\n",
       "<style scoped>\n",
       "    .dataframe tbody tr th:only-of-type {\n",
       "        vertical-align: middle;\n",
       "    }\n",
       "\n",
       "    .dataframe tbody tr th {\n",
       "        vertical-align: top;\n",
       "    }\n",
       "\n",
       "    .dataframe thead th {\n",
       "        text-align: right;\n",
       "    }\n",
       "</style>\n",
       "<table border=\"1\" class=\"dataframe\">\n",
       "  <thead>\n",
       "    <tr style=\"text-align: right;\">\n",
       "      <th></th>\n",
       "      <th>key</th>\n",
       "      <th>input</th>\n",
       "      <th>cardiotoxicity_risk</th>\n",
       "    </tr>\n",
       "  </thead>\n",
       "  <tbody>\n",
       "    <tr>\n",
       "      <th>0</th>\n",
       "      <td>c75eedc877bdd0c88aa1a97ed63c720a</td>\n",
       "      <td>OC(=O)c1ccc(cc1)S(=O)(=O)N(Cc1ccc(OC(F)(F)F)cc...</td>\n",
       "      <td>0.565675</td>\n",
       "    </tr>\n",
       "    <tr>\n",
       "      <th>1</th>\n",
       "      <td>497c0a25e2c4a11d6f3a8455071e67d5</td>\n",
       "      <td>Cc1cn2cc(CC(=O)N3CCC4(CN(C4)[C@@H]4CCc5cc(ccc4...</td>\n",
       "      <td>0.817581</td>\n",
       "    </tr>\n",
       "    <tr>\n",
       "      <th>2</th>\n",
       "      <td>ecd6d3da0dd0f1ed63ab9f5fa3ba4baa</td>\n",
       "      <td>O=c1n2CCCCCc2nc2ccccc12</td>\n",
       "      <td>0.746324</td>\n",
       "    </tr>\n",
       "    <tr>\n",
       "      <th>3</th>\n",
       "      <td>5330e9b848ec864b94684b68dbda4c78</td>\n",
       "      <td>COc1cc(\\C=C2/CCC\\C(=C/c3ccc(O)c(OC)c3)C2=O)ccc1O</td>\n",
       "      <td>0.534614</td>\n",
       "    </tr>\n",
       "    <tr>\n",
       "      <th>4</th>\n",
       "      <td>6a383aa5ebb9b029f25c0a3f92816c5d</td>\n",
       "      <td>OC(=O)c1cc(C(O)=O)c(cc1C(O)=O)C(=O)N(Cc1cccc(O...</td>\n",
       "      <td>0.478614</td>\n",
       "    </tr>\n",
       "  </tbody>\n",
       "</table>\n",
       "</div>"
      ],
      "text/plain": [
       "                                key  \\\n",
       "0  c75eedc877bdd0c88aa1a97ed63c720a   \n",
       "1  497c0a25e2c4a11d6f3a8455071e67d5   \n",
       "2  ecd6d3da0dd0f1ed63ab9f5fa3ba4baa   \n",
       "3  5330e9b848ec864b94684b68dbda4c78   \n",
       "4  6a383aa5ebb9b029f25c0a3f92816c5d   \n",
       "\n",
       "                                               input  cardiotoxicity_risk  \n",
       "0  OC(=O)c1ccc(cc1)S(=O)(=O)N(Cc1ccc(OC(F)(F)F)cc...             0.565675  \n",
       "1  Cc1cn2cc(CC(=O)N3CCC4(CN(C4)[C@@H]4CCc5cc(ccc4...             0.817581  \n",
       "2                            O=c1n2CCCCCc2nc2ccccc12             0.746324  \n",
       "3   COc1cc(\\C=C2/CCC\\C(=C/c3ccc(O)c(OC)c3)C2=O)ccc1O             0.534614  \n",
       "4  OC(=O)c1cc(C(O)=O)c(cc1C(O)=O)C(=O)N(Cc1cccc(O...             0.478614  "
      ]
     },
     "metadata": {},
     "output_type": "display_data"
    }
   ],
   "source": [
    "# %% 3) Cardiotoxicity model: example → run\n",
    "# 3a) Generate 5 example SMILES\n",
    "cardio_api.serve()\n",
    "cardio_api.example(\n",
    "    \"cardio_samples.csv\",\n",
    "    simple=True,\n",
    "    random=False,\n",
    "    n_samples=5,\n",
    "    deterministic=False\n",
    ")\n",
    "df_cardio_examples = pd.read_csv(\"cardio_samples.csv\")\n",
    "print(\"Cardiotoxicity example SMILES:\")\n",
    "display(df_cardio_examples)\n",
    "\n",
    "# 3b) Predict cardiotoxicity risk\n",
    "cardio_out = cardio_api.run(\n",
    "    input=df_cardio_examples[\"input\"].tolist(),\n",
    "    output=\"cardio_predictions.csv\",\n",
    "    batch_size=5\n",
    ")\n",
    "df_cardio_pred = pd.read_csv(\"cardio_predictions.csv\")\n",
    "print(\"Cardiotoxicity predictions:\")\n",
    "display(df_cardio_pred)"
   ]
  },
  {
   "cell_type": "code",
   "execution_count": 15,
   "id": "d49bdf7b-4b6e-4013-a226-f425832076b0",
   "metadata": {},
   "outputs": [
    {
     "name": "stdout",
     "output_type": "stream",
     "text": [
      "\u001b[32m⛔ Model eos1n4b closed\u001b[0m\n",
      "Deleting model eos1n4b\u001b[0m\n",
      "\u001b[32m💥 Model eos1n4b deleted successfully!\u001b[0m\n",
      "\u001b[32m⛔ Model eos1pu1 closed\u001b[0m\n",
      "Deleting model eos1pu1\u001b[0m\n",
      "\u001b[32m💥 Model eos1pu1 deleted successfully!\u001b[0m\n",
      "Done — models shut down and cleaned up.\n"
     ]
    }
   ],
   "source": [
    "# %% 4) Cleanup: close & delete both models\n",
    "for api in (hdac3_api, cardio_api):\n",
    "    api.close()\n",
    "    api.delete()\n",
    "\n",
    "print(\"Done — models shut down and cleaned up.\")"
   ]
  }
 ],
 "metadata": {
  "kernelspec": {
   "display_name": "Python 3 (ipykernel)",
   "language": "python",
   "name": "python3"
  },
  "language_info": {
   "codemirror_mode": {
    "name": "ipython",
    "version": 3
   },
   "file_extension": ".py",
   "mimetype": "text/x-python",
   "name": "python",
   "nbconvert_exporter": "python",
   "pygments_lexer": "ipython3",
   "version": "3.12.11"
  }
 },
 "nbformat": 4,
 "nbformat_minor": 5
}
