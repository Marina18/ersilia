{
 "cells": [
  {
   "cell_type": "markdown",
   "id": "11fe8359-63be-4848-96d1-b6ad4e7e0335",
   "metadata": {},
   "source": [
    "ErsiliaAPI Demo I - Broad Spectrum Antibiotic Resistance\n",
    "---\n",
    "- Automatically fetches provided model ID"
   ]
  },
  {
   "cell_type": "code",
   "execution_count": 2,
   "id": "b948da65-9d38-4978-832f-cff6fdfba182",
   "metadata": {},
   "outputs": [
    {
     "name": "stderr",
     "output_type": "stream",
     "text": [
      "/Users/patrickwalsh/miniconda3/envs/ersilia/lib/python3.12/site-packages/requests/__init__.py:86: RequestsDependencyWarning: Unable to find acceptable character detection dependency (chardet or charset_normalizer).\n",
      "  warnings.warn(\n"
     ]
    }
   ],
   "source": [
    "from ersilia.api.create_api import ErsiliaAPI\n",
    "gen_mdl = ErsiliaAPI(\"eos4q1a\")\n",
    "# sim_mdl = ErsiliaAPI(\"eos9c7k\") # ECFP4 Tanimoto neighbors\n",
    "# act_mdl = ErsiliaAPI(\"eos4e40\") # broad-spectrum antibiotic RF"
   ]
  },
  {
   "cell_type": "markdown",
   "id": "6aeac390-21d7-4438-b03f-2bad43b799b1",
   "metadata": {},
   "source": [
    "Fetch Command\n",
    "-------------\n",
    "Fetches an Ersilia model to run it locally.\n",
    "\n",
    "    This command allows users to fetch a specified model from the model hub (dockerhub, repo, s3 etc...).\n",
    "\n",
    "Returns\n",
    "-------\n",
    "- Function: The fetch command function to be used by the CLI and for testing in the pytest.\n",
    "- Str: Confirmation message on success or warning message on failure.\n",
    "\n",
    "Raises\n",
    "-------\n",
    "    RuntimeError: If both BentoML and FastAPI are used togehter"
   ]
  },
  {
   "cell_type": "code",
   "execution_count": 3,
   "id": "bf5f7b93-cd10-4af7-902c-dd4f28e728ff",
   "metadata": {},
   "outputs": [
    {
     "name": "stdout",
     "output_type": "stream",
     "text": [
      "\u001b[34m⬇️  Fetching model eos4q1a: crem-structure-generation\u001b[0m\n",
      "\u001b[34mGetting model source\u001b[0m\n",
      "\u001b[31mModel already exists on your system. If you want to fetch it again, please delete it first.\u001b[0m\n",
      "\u001b[31m👎 Model eos4q1a failed to fetch! Model already exists on your system. If you want to fetch it again, please delete the existing model first.\u001b[0m\n"
     ]
    }
   ],
   "source": [
    "gen_mdl.fetch()\n",
    "# sim_mdl.fetch()\n",
    "# act_mdl.fetch()"
   ]
  },
  {
   "cell_type": "markdown",
   "id": "b8df9a77-134d-4c99-9e8a-97ce77cd97b1",
   "metadata": {},
   "source": [
    "Serve command\n",
    "-------\n",
    "Serves a specified model as an API.\n",
    "\n",
    "Args\n",
    "-------\n",
    "- model: The model ID to be served. Can either be the eos identifier or the slug identifier.\n",
    "- port: The port to use when creating a model server. If unspecified, Ersilia looks for empty ports to use on the user's system.\n",
    "- track: Whether the model's runs should be tracked to monitor model and system performance.\n",
    "- tracking_use_case: If --track is true, this command allows specification of the tracking use case. Current options are: local, hosted, self-service and test.\n",
    "- enable_local_cache: Toggle Redis-based local caching on or off. If enabled, the results from model APIs will be cached for 7 days.\n",
    "- local_cache_only: Specifies to fetch stored model results from local cache. The local caching system is powered by Redis.\n",
    "- cloud_cache_only: Specifies to fetch stored model results from cloud cache. This allows to fetch model precalculated results in csv file in Ersilia model output format.\n",
    "- cache_only: Specifies to fetch stored model results from both local and cloud cache. More details are given in a dump CLI.\n",
    "- max_cache_memory_frac: Sets the maximum fraction of memory to use by Redis for caching. Recommended value 0.2-0.7.\n",
    "\n",
    "Returns\n",
    "-------\n",
    "        Model ID, URL, SRV, Session, SRV, Session, Caching Mode Status, Local Cache Status, Tracking Status\n",
    "\n",
    "Raises\n",
    "-------\n",
    "        RuntimeError: If the model/URL is not valid or not found,\n",
    "        or if the maximum cache memory fraction is outside of the recommended range."
   ]
  },
  {
   "cell_type": "code",
   "execution_count": 4,
   "id": "b96c3aa3-7cb1-4f91-9e64-426a1253e679",
   "metadata": {},
   "outputs": [
    {
     "name": "stdout",
     "output_type": "stream",
     "text": [
      "\u001b[32m🚀 Serving model eos4q1a: crem-structure-generation\u001b[0m\n",
      "\u001b[0m\n",
      "\u001b[33m   URL: http://0.0.0.0:53667\u001b[0m\n",
      "\u001b[33m   SRV: pulled_docker\u001b[0m\n",
      "\u001b[33m   Session: /Users/patrickwalsh/eos/sessions/session_42437\u001b[0m\n",
      "\u001b[0m\n",
      "\u001b[34m🔄 Cache fetching mode:\u001b[0m\n",
      "\u001b[31m   - Disabled\u001b[0m\n",
      "\u001b[0m\n",
      "\u001b[34m💾 Local cache:\u001b[0m\n",
      "\u001b[32m   - Enabled\u001b[0m\n",
      "\u001b[0m\n",
      "\u001b[34m📈 Tracking:\u001b[0m\n",
      "\u001b[31m   - Disabled\u001b[0m\n"
     ]
    }
   ],
   "source": [
    "gen_mdl.serve()"
   ]
  },
  {
   "cell_type": "markdown",
   "id": "5644fe65-aa15-4119-aa40-1eaaac0229d3",
   "metadata": {},
   "source": [
    "Run Command\n",
    "----------\n",
    "Runs the current model on a list of SMILES strings and returns the prediction as a pandas data frame.\n",
    "\n",
    "Args\n",
    "----\n",
    "- input: a list or a path to a CSV file containing SMILES strings.\n",
    "- batch_size: number of SMILES to process per batch\n",
    "\n",
    "Returns\n",
    "-------\n",
    "function\n",
    "    The run command function to be used by the API.\n",
    "    A pandas df with the predictions."
   ]
  },
  {
   "cell_type": "code",
   "execution_count": 7,
   "id": "ffd80792-70a3-446b-951e-781e620c5c22",
   "metadata": {},
   "outputs": [
    {
     "name": "stdout",
     "output_type": "stream",
     "text": [
      "\u001b[31m\u001b[1mInput format invalid. Please provide a string, list, and or .csv input instead.\u001b[0m\n"
     ]
    },
    {
     "ename": "SystemExit",
     "evalue": "1",
     "output_type": "error",
     "traceback": [
      "An exception has occurred, use %tb to see the full traceback.\n",
      "\u001b[31mSystemExit\u001b[39m\u001b[31m:\u001b[39m 1\n"
     ]
    },
    {
     "name": "stderr",
     "output_type": "stream",
     "text": [
      "/Users/patrickwalsh/miniconda3/envs/ersilia/lib/python3.12/site-packages/IPython/core/interactiveshell.py:3675: UserWarning: To exit: use 'exit', 'quit', or Ctrl-D.\n",
      "  warn(\"To exit: use 'exit', 'quit', or Ctrl-D.\", stacklevel=1)\n"
     ]
    }
   ],
   "source": [
    "generated_path = gen_mdl.run(\n",
    "    input = \"frag_gen_examples.csv\",\n",
    "    output = \"generated.csv\",\n",
    "    batch_size = 50)\n",
    "\n",
    "# Load the generated SMILES from the output CSV:\n",
    "generated_df = pd.read_csv(generated_path)\n",
    "generated_smiles = generated_df[\"input\"].tolist()\n",
    "print(f\"Generated {len(generated_smiles)} new SMILES\")"
   ]
  },
  {
   "cell_type": "markdown",
   "id": "a7857858-5f2c-4917-9128-41423321d1d1",
   "metadata": {},
   "source": [
    "Example Command\n",
    "- file_name\n",
    "- simple\n",
    "- random\n",
    "- n_samples\n",
    "- deterministic"
   ]
  },
  {
   "cell_type": "code",
   "execution_count": 8,
   "id": "dfc67ccc-8c7e-469c-9240-23c2461b273c",
   "metadata": {},
   "outputs": [
    {
     "name": "stdout",
     "output_type": "stream",
     "text": [
      "\u001b[31m\u001b[1mPlease provide a valid CSV filename ending with .csv\u001b[0m\n"
     ]
    }
   ],
   "source": [
    "examples = gen_mdl.example(file_name=None, simple=True, random=True, n_samples=20, deterministic=False)"
   ]
  },
  {
   "cell_type": "markdown",
   "id": "c2f4f1e5-9d52-45eb-8709-f89830739b3f",
   "metadata": {},
   "source": [
    "Close Command"
   ]
  },
  {
   "cell_type": "code",
   "execution_count": 25,
   "id": "e021076f-7f1b-469f-b599-3bc249b89268",
   "metadata": {},
   "outputs": [
    {
     "name": "stdout",
     "output_type": "stream",
     "text": [
      "\u001b[32m⛔ Model eos3b5e closed\u001b[0m\n"
     ]
    },
    {
     "ename": "NameError",
     "evalue": "name 'mdl_crem_frag' is not defined",
     "output_type": "error",
     "traceback": [
      "\u001b[31m---------------------------------------------------------------------------\u001b[39m",
      "\u001b[31mNameError\u001b[39m                                 Traceback (most recent call last)",
      "\u001b[36mCell\u001b[39m\u001b[36m \u001b[39m\u001b[32mIn[25]\u001b[39m\u001b[32m, line 2\u001b[39m\n\u001b[32m      1\u001b[39m mdl_mol_weight.close()\n\u001b[32m----> \u001b[39m\u001b[32m2\u001b[39m mdl_crem_frag.close()\n",
      "\u001b[31mNameError\u001b[39m: name 'mdl_crem_frag' is not defined"
     ]
    }
   ],
   "source": [
    "mdl.close()"
   ]
  },
  {
   "cell_type": "markdown",
   "id": "5e879134-77ef-414d-a5ea-06278e6c6705",
   "metadata": {},
   "source": [
    "Delete Command"
   ]
  },
  {
   "cell_type": "code",
   "execution_count": 7,
   "id": "0d1cb6ab-805e-499d-a9b6-0f6c91efafce",
   "metadata": {},
   "outputs": [
    {
     "name": "stdout",
     "output_type": "stream",
     "text": [
      "Deleting model eos4q1a\u001b[0m\n",
      "\u001b[32m💥 Model eos4q1a deleted successfully!\u001b[0m\n"
     ]
    }
   ],
   "source": [
    "mdl_crem_frag.close()"
   ]
  },
  {
   "cell_type": "markdown",
   "id": "46993082-9e09-41e5-8b47-a749515af8ec",
   "metadata": {},
   "source": [
    "Working with With\n",
    "---"
   ]
  },
  {
   "cell_type": "code",
   "execution_count": null,
   "id": "f29fee29-7dfc-4ce7-b948-e20eccae8e87",
   "metadata": {},
   "outputs": [],
   "source": [
    "# First require that the model must be fetched\n",
    "# Model can be served with the with architecture\n",
    "# run/example/info (NOT close)\n",
    "#mdl_crem_frag = ErsiliaAPI(\"ersilia-model-id-for-crem-frag\")\n",
    "with mdl_crem_frag as model:\n",
    "    model.info()"
   ]
  }
 ],
 "metadata": {
  "kernelspec": {
   "display_name": "Python 3 (ipykernel)",
   "language": "python",
   "name": "python3"
  },
  "language_info": {
   "codemirror_mode": {
    "name": "ipython",
    "version": 3
   },
   "file_extension": ".py",
   "mimetype": "text/x-python",
   "name": "python",
   "nbconvert_exporter": "python",
   "pygments_lexer": "ipython3",
   "version": "3.12.11"
  }
 },
 "nbformat": 4,
 "nbformat_minor": 5
}
