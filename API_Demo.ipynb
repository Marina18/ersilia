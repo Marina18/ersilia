{
 "cells": [
  {
   "cell_type": "markdown",
   "id": "11fe8359-63be-4848-96d1-b6ad4e7e0335",
   "metadata": {},
   "source": [
    "ErsiliaAPI Demo I - Broad Spectrum Antibiotic Resistance\n",
    "---\n",
    "- Automatically fetches provided model ID"
   ]
  },
  {
   "cell_type": "code",
   "execution_count": 1,
   "id": "b948da65-9d38-4978-832f-cff6fdfba182",
   "metadata": {},
   "outputs": [
    {
     "name": "stderr",
     "output_type": "stream",
     "text": [
      "/Users/patrickwalsh/miniconda3/envs/ersilia/lib/python3.12/site-packages/requests/__init__.py:86: RequestsDependencyWarning: Unable to find acceptable character detection dependency (chardet or charset_normalizer).\n",
      "  warnings.warn(\n"
     ]
    }
   ],
   "source": [
    "from ersilia.api.create_api import ErsiliaAPI\n",
    "gen_mdl = ErsiliaAPI(\"eos4q1a\")\n",
    "# sim_mdl = ErsiliaAPI(\"eos9c7k\") # ECFP4 Tanimoto neighbors\n",
    "# act_mdl = ErsiliaAPI(\"eos4e40\") # broad-spectrum antibiotic RF"
   ]
  },
  {
   "cell_type": "markdown",
   "id": "6aeac390-21d7-4438-b03f-2bad43b799b1",
   "metadata": {},
   "source": [
    "Fetch Command\n",
    "-------------\n",
    "Fetches an Ersilia model to run it locally.\n",
    "\n",
    "    This command allows users to fetch a specified model from the model hub (dockerhub, repo, s3 etc...).\n",
    "\n",
    "Returns\n",
    "-------\n",
    "- Function: The fetch command function to be used by the CLI and for testing in the pytest.\n",
    "- Str: Confirmation message on success or warning message on failure.\n",
    "\n",
    "Raises\n",
    "-------\n",
    "    RuntimeError: If both BentoML and FastAPI are used togehter"
   ]
  },
  {
   "cell_type": "code",
   "execution_count": 2,
   "id": "bf5f7b93-cd10-4af7-902c-dd4f28e728ff",
   "metadata": {},
   "outputs": [
    {
     "name": "stdout",
     "output_type": "stream",
     "text": [
      "\u001b[34m⬇️  Fetching model eos4q1a: crem-structure-generation\u001b[0m\n",
      "\u001b[34mGetting model source\u001b[0m\n",
      "\u001b[31mModel already exists on your system. If you want to fetch it again, please delete it first.\u001b[0m\n",
      "\u001b[31m👎 Model eos4q1a failed to fetch! Model already exists on your system. If you want to fetch it again, please delete the existing model first.\u001b[0m\n"
     ]
    }
   ],
   "source": [
    "gen_mdl.fetch()\n",
    "# sim_mdl.fetch()\n",
    "# act_mdl.fetch()"
   ]
  },
  {
   "cell_type": "markdown",
   "id": "b8df9a77-134d-4c99-9e8a-97ce77cd97b1",
   "metadata": {},
   "source": [
    "Serve command\n",
    "-------\n",
    "Serves a specified model as an API.\n",
    "\n",
    "Args\n",
    "-------\n",
    "- model: The model ID to be served. Can either be the eos identifier or the slug identifier.\n",
    "- port: The port to use when creating a model server. If unspecified, Ersilia looks for empty ports to use on the user's system.\n",
    "- track: Whether the model's runs should be tracked to monitor model and system performance.\n",
    "- tracking_use_case: If --track is true, this command allows specification of the tracking use case. Current options are: local, hosted, self-service and test.\n",
    "- enable_local_cache: Toggle Redis-based local caching on or off. If enabled, the results from model APIs will be cached for 7 days.\n",
    "- local_cache_only: Specifies to fetch stored model results from local cache. The local caching system is powered by Redis.\n",
    "- cloud_cache_only: Specifies to fetch stored model results from cloud cache. This allows to fetch model precalculated results in csv file in Ersilia model output format.\n",
    "- cache_only: Specifies to fetch stored model results from both local and cloud cache. More details are given in a dump CLI.\n",
    "- max_cache_memory_frac: Sets the maximum fraction of memory to use by Redis for caching. Recommended value 0.2-0.7.\n",
    "\n",
    "Returns\n",
    "-------\n",
    "        Model ID, URL, SRV, Session, SRV, Session, Caching Mode Status, Local Cache Status, Tracking Status\n",
    "\n",
    "Raises\n",
    "-------\n",
    "        RuntimeError: If the model/URL is not valid or not found,\n",
    "        or if the maximum cache memory fraction is outside of the recommended range."
   ]
  },
  {
   "cell_type": "code",
   "execution_count": 8,
   "id": "b96c3aa3-7cb1-4f91-9e64-426a1253e679",
   "metadata": {},
   "outputs": [
    {
     "name": "stdout",
     "output_type": "stream",
     "text": [
      "\u001b[32m🚀 Serving model eos4q1a: crem-structure-generation\u001b[0m\n",
      "\u001b[0m\n",
      "\u001b[33m   URL: http://0.0.0.0:54220\u001b[0m\n",
      "\u001b[33m   SRV: pulled_docker\u001b[0m\n",
      "\u001b[33m   Session: /Users/patrickwalsh/eos/sessions/session_47516\u001b[0m\n",
      "\u001b[0m\n",
      "\u001b[34m🔄 Cache fetching mode:\u001b[0m\n",
      "\u001b[31m   - Disabled\u001b[0m\n",
      "\u001b[0m\n",
      "\u001b[34m💾 Local cache:\u001b[0m\n",
      "\u001b[32m   - Enabled\u001b[0m\n",
      "\u001b[0m\n",
      "\u001b[34m📈 Tracking:\u001b[0m\n",
      "\u001b[31m   - Disabled\u001b[0m\n"
     ]
    }
   ],
   "source": [
    "gen_mdl.serve()"
   ]
  },
  {
   "cell_type": "markdown",
   "id": "5644fe65-aa15-4119-aa40-1eaaac0229d3",
   "metadata": {},
   "source": [
    "Run Command\n",
    "----------\n",
    "Runs the current model on a list of SMILES strings and returns the prediction as a pandas data frame.\n",
    "\n",
    "Args\n",
    "----\n",
    "- input: a list or a path to a CSV file containing SMILES strings.\n",
    "- batch_size: number of SMILES to process per batch\n",
    "\n",
    "Returns\n",
    "-------\n",
    "function\n",
    "    The run command function to be used by the API.\n",
    "    A pandas df with the predictions."
   ]
  },
  {
   "cell_type": "code",
   "execution_count": 9,
   "id": "ffd80792-70a3-446b-951e-781e620c5c22",
   "metadata": {},
   "outputs": [
    {
     "ename": "ValueError",
     "evalue": "If using all scalar values, you must pass an index",
     "output_type": "error",
     "traceback": [
      "\u001b[31m---------------------------------------------------------------------------\u001b[39m",
      "\u001b[31mValueError\u001b[39m                                Traceback (most recent call last)",
      "\u001b[36mCell\u001b[39m\u001b[36m \u001b[39m\u001b[32mIn[9]\u001b[39m\u001b[32m, line 1\u001b[39m\n\u001b[32m----> \u001b[39m\u001b[32m1\u001b[39m generated_path = gen_mdl.run(\n\u001b[32m      2\u001b[39m     \u001b[38;5;28minput\u001b[39m = \u001b[33m\"\u001b[39m\u001b[33mfrag_gen_examples.csv\u001b[39m\u001b[33m\"\u001b[39m,\n\u001b[32m      3\u001b[39m     output = \u001b[33m\"\u001b[39m\u001b[33mgenerated.csv\u001b[39m\u001b[33m\"\u001b[39m,\n\u001b[32m      4\u001b[39m     batch_size = \u001b[32m50\u001b[39m)\n\u001b[32m      6\u001b[39m \u001b[38;5;66;03m# Load the generated SMILES from the output CSV:\u001b[39;00m\n\u001b[32m      7\u001b[39m generated_df = pd.read_csv(generated_path)\n",
      "\u001b[36mFile \u001b[39m\u001b[32m~/ersilia/ersilia/api/create_api.py:147\u001b[39m, in \u001b[36mErsiliaAPI.run\u001b[39m\u001b[34m(self, input, output, batch_size)\u001b[39m\n\u001b[32m    129\u001b[39m \u001b[38;5;28;01mdef\u001b[39;00m\u001b[38;5;250m \u001b[39m\u001b[34mrun\u001b[39m(\u001b[38;5;28mself\u001b[39m, \u001b[38;5;28minput\u001b[39m, output, batch_size):\n\u001b[32m    130\u001b[39m \u001b[38;5;250m    \u001b[39m\u001b[33;03m\"\"\"\u001b[39;00m\n\u001b[32m    131\u001b[39m \u001b[33;03m    Runs the current model on a list of SMILES strings and\u001b[39;00m\n\u001b[32m    132\u001b[39m \u001b[33;03m    returns the prediction as a pandas data frame.\u001b[39;00m\n\u001b[32m   (...)\u001b[39m\u001b[32m    145\u001b[39m \n\u001b[32m    146\u001b[39m \u001b[33;03m    \"\"\"\u001b[39;00m\n\u001b[32m--> \u001b[39m\u001b[32m147\u001b[39m     run.run(\u001b[38;5;28mself\u001b[39m.model_id, \u001b[38;5;28minput\u001b[39m, output, batch_size)\n",
      "\u001b[36mFile \u001b[39m\u001b[32m~/ersilia/ersilia/api/commands/run.py:77\u001b[39m, in \u001b[36mrun\u001b[39m\u001b[34m(model_id, input, output, batch_size)\u001b[39m\n\u001b[32m     74\u001b[39m     \u001b[38;5;28;01mreturn\u001b[39;00m\n\u001b[32m     76\u001b[39m \u001b[38;5;28;01mif\u001b[39;00m \u001b[38;5;28mtype\u001b[39m(\u001b[38;5;28minput\u001b[39m) == \u001b[38;5;28mstr\u001b[39m \u001b[38;5;129;01mor\u001b[39;00m \u001b[38;5;28misinstance\u001b[39m(\u001b[38;5;28minput\u001b[39m, \u001b[38;5;28mlist\u001b[39m):\n\u001b[32m---> \u001b[39m\u001b[32m77\u001b[39m     input_df = pd.DataFrame({\u001b[33m\"\u001b[39m\u001b[33minput\u001b[39m\u001b[33m\"\u001b[39m: \u001b[38;5;28minput\u001b[39m})\n\u001b[32m     78\u001b[39m     input_file = tempfile.NamedTemporaryFile(\n\u001b[32m     79\u001b[39m         mode=\u001b[33m\"\u001b[39m\u001b[33mw+t\u001b[39m\u001b[33m\"\u001b[39m, encoding=\u001b[33m\"\u001b[39m\u001b[33mutf-8\u001b[39m\u001b[33m\"\u001b[39m, suffix=\u001b[33m\"\u001b[39m\u001b[33m.csv\u001b[39m\u001b[33m\"\u001b[39m, delete=\u001b[38;5;28;01mFalse\u001b[39;00m\n\u001b[32m     80\u001b[39m     )\n\u001b[32m     81\u001b[39m     input_df.to_csv(input_file.name, index=\u001b[38;5;28;01mFalse\u001b[39;00m)\n",
      "\u001b[36mFile \u001b[39m\u001b[32m~/miniconda3/envs/ersilia/lib/python3.12/site-packages/pandas/core/frame.py:778\u001b[39m, in \u001b[36mDataFrame.__init__\u001b[39m\u001b[34m(self, data, index, columns, dtype, copy)\u001b[39m\n\u001b[32m    772\u001b[39m     mgr = \u001b[38;5;28mself\u001b[39m._init_mgr(\n\u001b[32m    773\u001b[39m         data, axes={\u001b[33m\"\u001b[39m\u001b[33mindex\u001b[39m\u001b[33m\"\u001b[39m: index, \u001b[33m\"\u001b[39m\u001b[33mcolumns\u001b[39m\u001b[33m\"\u001b[39m: columns}, dtype=dtype, copy=copy\n\u001b[32m    774\u001b[39m     )\n\u001b[32m    776\u001b[39m \u001b[38;5;28;01melif\u001b[39;00m \u001b[38;5;28misinstance\u001b[39m(data, \u001b[38;5;28mdict\u001b[39m):\n\u001b[32m    777\u001b[39m     \u001b[38;5;66;03m# GH#38939 de facto copy defaults to False only in non-dict cases\u001b[39;00m\n\u001b[32m--> \u001b[39m\u001b[32m778\u001b[39m     mgr = dict_to_mgr(data, index, columns, dtype=dtype, copy=copy, typ=manager)\n\u001b[32m    779\u001b[39m \u001b[38;5;28;01melif\u001b[39;00m \u001b[38;5;28misinstance\u001b[39m(data, ma.MaskedArray):\n\u001b[32m    780\u001b[39m     \u001b[38;5;28;01mfrom\u001b[39;00m\u001b[38;5;250m \u001b[39m\u001b[34;01mnumpy\u001b[39;00m\u001b[34;01m.\u001b[39;00m\u001b[34;01mma\u001b[39;00m\u001b[38;5;250m \u001b[39m\u001b[38;5;28;01mimport\u001b[39;00m mrecords\n",
      "\u001b[36mFile \u001b[39m\u001b[32m~/miniconda3/envs/ersilia/lib/python3.12/site-packages/pandas/core/internals/construction.py:503\u001b[39m, in \u001b[36mdict_to_mgr\u001b[39m\u001b[34m(data, index, columns, dtype, typ, copy)\u001b[39m\n\u001b[32m    499\u001b[39m     \u001b[38;5;28;01melse\u001b[39;00m:\n\u001b[32m    500\u001b[39m         \u001b[38;5;66;03m# dtype check to exclude e.g. range objects, scalars\u001b[39;00m\n\u001b[32m    501\u001b[39m         arrays = [x.copy() \u001b[38;5;28;01mif\u001b[39;00m \u001b[38;5;28mhasattr\u001b[39m(x, \u001b[33m\"\u001b[39m\u001b[33mdtype\u001b[39m\u001b[33m\"\u001b[39m) \u001b[38;5;28;01melse\u001b[39;00m x \u001b[38;5;28;01mfor\u001b[39;00m x \u001b[38;5;129;01min\u001b[39;00m arrays]\n\u001b[32m--> \u001b[39m\u001b[32m503\u001b[39m \u001b[38;5;28;01mreturn\u001b[39;00m arrays_to_mgr(arrays, columns, index, dtype=dtype, typ=typ, consolidate=copy)\n",
      "\u001b[36mFile \u001b[39m\u001b[32m~/miniconda3/envs/ersilia/lib/python3.12/site-packages/pandas/core/internals/construction.py:114\u001b[39m, in \u001b[36marrays_to_mgr\u001b[39m\u001b[34m(arrays, columns, index, dtype, verify_integrity, typ, consolidate)\u001b[39m\n\u001b[32m    111\u001b[39m \u001b[38;5;28;01mif\u001b[39;00m verify_integrity:\n\u001b[32m    112\u001b[39m     \u001b[38;5;66;03m# figure out the index, if necessary\u001b[39;00m\n\u001b[32m    113\u001b[39m     \u001b[38;5;28;01mif\u001b[39;00m index \u001b[38;5;129;01mis\u001b[39;00m \u001b[38;5;28;01mNone\u001b[39;00m:\n\u001b[32m--> \u001b[39m\u001b[32m114\u001b[39m         index = _extract_index(arrays)\n\u001b[32m    115\u001b[39m     \u001b[38;5;28;01melse\u001b[39;00m:\n\u001b[32m    116\u001b[39m         index = ensure_index(index)\n",
      "\u001b[36mFile \u001b[39m\u001b[32m~/miniconda3/envs/ersilia/lib/python3.12/site-packages/pandas/core/internals/construction.py:667\u001b[39m, in \u001b[36m_extract_index\u001b[39m\u001b[34m(data)\u001b[39m\n\u001b[32m    664\u001b[39m         \u001b[38;5;28;01mraise\u001b[39;00m \u001b[38;5;167;01mValueError\u001b[39;00m(\u001b[33m\"\u001b[39m\u001b[33mPer-column arrays must each be 1-dimensional\u001b[39m\u001b[33m\"\u001b[39m)\n\u001b[32m    666\u001b[39m \u001b[38;5;28;01mif\u001b[39;00m \u001b[38;5;129;01mnot\u001b[39;00m indexes \u001b[38;5;129;01mand\u001b[39;00m \u001b[38;5;129;01mnot\u001b[39;00m raw_lengths:\n\u001b[32m--> \u001b[39m\u001b[32m667\u001b[39m     \u001b[38;5;28;01mraise\u001b[39;00m \u001b[38;5;167;01mValueError\u001b[39;00m(\u001b[33m\"\u001b[39m\u001b[33mIf using all scalar values, you must pass an index\u001b[39m\u001b[33m\"\u001b[39m)\n\u001b[32m    669\u001b[39m \u001b[38;5;28;01mif\u001b[39;00m have_series:\n\u001b[32m    670\u001b[39m     index = union_indexes(indexes)\n",
      "\u001b[31mValueError\u001b[39m: If using all scalar values, you must pass an index"
     ]
    }
   ],
   "source": [
    "generated_path = gen_mdl.run(\n",
    "    input = \"frag_gen_examples.csv\",\n",
    "    output = \"generated.csv\",\n",
    "    batch_size = 50)\n",
    "\n",
    "# Load the generated SMILES from the output CSV:\n",
    "generated_df = pd.read_csv(generated_path)\n",
    "generated_smiles = generated_df[\"input\"].tolist()\n",
    "print(f\"Generated {len(generated_smiles)} new SMILES\")"
   ]
  },
  {
   "cell_type": "markdown",
   "id": "a7857858-5f2c-4917-9128-41423321d1d1",
   "metadata": {},
   "source": [
    "Example Command\n",
    "- file_name\n",
    "- simple\n",
    "- random\n",
    "- n_samples\n",
    "- deterministic"
   ]
  },
  {
   "cell_type": "code",
   "execution_count": 6,
   "id": "dfc67ccc-8c7e-469c-9240-23c2461b273c",
   "metadata": {},
   "outputs": [
    {
     "name": "stdout",
     "output_type": "stream",
     "text": [
      "\u001b[32m\u001b[1m✅ Examples successfully saved to frag_gen_examples.csv\u001b[0m\n"
     ]
    }
   ],
   "source": [
    "examples = gen_mdl.example(file_name=\"frag_gen_examples.csv\", simple=True, random=True, n_samples=20, deterministic=False)"
   ]
  },
  {
   "cell_type": "markdown",
   "id": "c2f4f1e5-9d52-45eb-8709-f89830739b3f",
   "metadata": {},
   "source": [
    "Close Command"
   ]
  },
  {
   "cell_type": "code",
   "execution_count": 25,
   "id": "e021076f-7f1b-469f-b599-3bc249b89268",
   "metadata": {},
   "outputs": [
    {
     "name": "stdout",
     "output_type": "stream",
     "text": [
      "\u001b[32m⛔ Model eos3b5e closed\u001b[0m\n"
     ]
    },
    {
     "ename": "NameError",
     "evalue": "name 'mdl_crem_frag' is not defined",
     "output_type": "error",
     "traceback": [
      "\u001b[31m---------------------------------------------------------------------------\u001b[39m",
      "\u001b[31mNameError\u001b[39m                                 Traceback (most recent call last)",
      "\u001b[36mCell\u001b[39m\u001b[36m \u001b[39m\u001b[32mIn[25]\u001b[39m\u001b[32m, line 2\u001b[39m\n\u001b[32m      1\u001b[39m mdl_mol_weight.close()\n\u001b[32m----> \u001b[39m\u001b[32m2\u001b[39m mdl_crem_frag.close()\n",
      "\u001b[31mNameError\u001b[39m: name 'mdl_crem_frag' is not defined"
     ]
    }
   ],
   "source": [
    "mdl.close()"
   ]
  },
  {
   "cell_type": "markdown",
   "id": "5e879134-77ef-414d-a5ea-06278e6c6705",
   "metadata": {},
   "source": [
    "Delete Command"
   ]
  },
  {
   "cell_type": "code",
   "execution_count": 7,
   "id": "0d1cb6ab-805e-499d-a9b6-0f6c91efafce",
   "metadata": {},
   "outputs": [
    {
     "name": "stdout",
     "output_type": "stream",
     "text": [
      "Deleting model eos4q1a\u001b[0m\n",
      "\u001b[32m💥 Model eos4q1a deleted successfully!\u001b[0m\n"
     ]
    }
   ],
   "source": [
    "mdl_crem_frag.close()"
   ]
  },
  {
   "cell_type": "markdown",
   "id": "46993082-9e09-41e5-8b47-a749515af8ec",
   "metadata": {},
   "source": [
    "Working with With\n",
    "---"
   ]
  },
  {
   "cell_type": "code",
   "execution_count": null,
   "id": "f29fee29-7dfc-4ce7-b948-e20eccae8e87",
   "metadata": {},
   "outputs": [],
   "source": [
    "# First require that the model must be fetched\n",
    "# Model can be served with the with architecture\n",
    "# run/example/info (NOT close)\n",
    "#mdl_crem_frag = ErsiliaAPI(\"ersilia-model-id-for-crem-frag\")\n",
    "with mdl_crem_frag as model:\n",
    "    model.info()"
   ]
  }
 ],
 "metadata": {
  "kernelspec": {
   "display_name": "Python 3 (ipykernel)",
   "language": "python",
   "name": "python3"
  },
  "language_info": {
   "codemirror_mode": {
    "name": "ipython",
    "version": 3
   },
   "file_extension": ".py",
   "mimetype": "text/x-python",
   "name": "python",
   "nbconvert_exporter": "python",
   "pygments_lexer": "ipython3",
   "version": "3.12.11"
  }
 },
 "nbformat": 4,
 "nbformat_minor": 5
}
